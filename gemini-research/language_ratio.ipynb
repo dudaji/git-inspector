{
 "cells": [
  {
   "cell_type": "code",
   "execution_count": 1,
   "metadata": {},
   "outputs": [],
   "source": [
    "from langchain_community.document_loaders import GitLoader\n",
    "\n",
    "repo_path = \"./repo/git-inspector\"\n",
    "loader = GitLoader(\n",
    "    clone_url=\"https://github.com/dudaji/git-inspector.git\",\n",
    "    repo_path=repo_path,\n",
    "    branch=\"develop\",\n",
    "    # file_filter=lambda filename: filename != \".gitignore\",\n",
    ")\n",
    "data = loader.load()"
   ]
  },
  {
   "cell_type": "code",
   "execution_count": 14,
   "metadata": {},
   "outputs": [
    {
     "name": "stdout",
     "output_type": "stream",
     "text": [
      "cceabdecc958b2edb1b04d78bdea3f3cde1194c6\n"
     ]
    }
   ],
   "source": [
    "import os\n",
    "from git import Repo\n",
    "\n",
    "repo = None\n",
    "if not os.path.exists(repo_path):\n",
    "    repo = Repo.clone_from(\n",
    "        \"https://github.com/dudaji/git-inspector.git\", to_path=repo_path\n",
    "    )\n",
    "else:\n",
    "    repo = Repo(repo_path)\n",
    "\n",
    "remote = repo.remotes.origin\n",
    "remote.pull()\n",
    "repo.git.checkout(\"feature/add-gemini-research\")\n",
    "sha = repo.head.object.hexsha\n",
    "print(sha)"
   ]
  },
  {
   "cell_type": "code",
   "execution_count": 4,
   "metadata": {},
   "outputs": [],
   "source": [
    "import ghlinguist as ghl\n",
    "\n",
    "langs = ghl.linguist(repo_path)"
   ]
  },
  {
   "cell_type": "code",
   "execution_count": 5,
   "metadata": {},
   "outputs": [
    {
     "data": {
      "text/plain": [
       "[('Python', '55.65'),\n",
       " ('TypeScript', '31.22'),\n",
       " ('HTML', '9.42'),\n",
       " ('CSS', '2.65'),\n",
       " ('JavaScript', '1.07')]"
      ]
     },
     "execution_count": 5,
     "metadata": {},
     "output_type": "execute_result"
    }
   ],
   "source": [
    "langs"
   ]
  },
  {
   "cell_type": "code",
   "execution_count": null,
   "metadata": {},
   "outputs": [],
   "source": []
  }
 ],
 "metadata": {
  "kernelspec": {
   "display_name": "llm",
   "language": "python",
   "name": "python3"
  },
  "language_info": {
   "codemirror_mode": {
    "name": "ipython",
    "version": 3
   },
   "file_extension": ".py",
   "mimetype": "text/x-python",
   "name": "python",
   "nbconvert_exporter": "python",
   "pygments_lexer": "ipython3",
   "version": "3.11.9"
  }
 },
 "nbformat": 4,
 "nbformat_minor": 2
}
