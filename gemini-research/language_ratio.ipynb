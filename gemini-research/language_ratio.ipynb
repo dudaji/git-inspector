{
 "cells": [
  {
   "cell_type": "code",
   "execution_count": 1,
   "metadata": {},
   "outputs": [],
   "source": [
    "from langchain_community.document_loaders import GitLoader\n",
    "\n",
    "repo_path = \"./repo/git-inspector\"\n",
    "loader = GitLoader(\n",
    "    clone_url=\"https://github.com/dudaji/git-inspector.git\",\n",
    "    repo_path=repo_path,\n",
    "    branch=\"develop\",\n",
    "    # file_filter=lambda filename: filename != \".gitignore\",\n",
    ")\n",
    "data = loader.load()"
   ]
  },
  {
   "cell_type": "code",
   "execution_count": 10,
   "metadata": {},
   "outputs": [
    {
     "name": "stdout",
     "output_type": "stream",
     "text": [
      "bb40be0cab8e611b2a5c49a69cdd3837feaa8380\n"
     ]
    }
   ],
   "source": [
    "import os\n",
    "from git import Repo\n",
    "\n",
    "repo_path = \"./repo/git-inspector\"\n",
    "repo = None\n",
    "if not os.path.exists(repo_path):\n",
    "    repo = Repo.clone_from(\n",
    "        \"https://github.com/dudaji/git-inspector.git\", to_path=repo_path\n",
    "    )\n",
    "else:\n",
    "    repo = Repo(repo_path)\n",
    "\n",
    "repo.git.checkout(\"develop\")\n",
    "remote = repo.remotes.origin\n",
    "remote.pull()\n",
    "sha = repo.head.object.hexsha\n",
    "print(sha)"
   ]
  },
  {
   "cell_type": "code",
   "execution_count": 11,
   "metadata": {},
   "outputs": [],
   "source": [
    "import ghlinguist as ghl\n",
    "\n",
    "langs = ghl.linguist(repo_path)"
   ]
  },
  {
   "cell_type": "code",
   "execution_count": 12,
   "metadata": {},
   "outputs": [
    {
     "data": {
      "text/plain": [
       "[('Notebook', '53.21'),\n",
       " ('Python', '24.92'),\n",
       " ('TypeScript', '17.79'),\n",
       " ('HTML', '2.54'),\n",
       " ('CSS', '0.73'),\n",
       " ('Shell', '0.52'),\n",
       " ('JavaScript', '0.29')]"
      ]
     },
     "execution_count": 12,
     "metadata": {},
     "output_type": "execute_result"
    }
   ],
   "source": [
    "langs"
   ]
  },
  {
   "cell_type": "code",
   "execution_count": 13,
   "metadata": {},
   "outputs": [],
   "source": [
    "from polyglot.core import Polyglot\n",
    "\n",
    "dirname = \"repo/git-inspector\"\n",
    "\n",
    "polyglot = Polyglot(dirname)\n",
    "result = polyglot.show(display=False)"
   ]
  },
  {
   "cell_type": "code",
   "execution_count": 14,
   "metadata": {},
   "outputs": [
    {
     "data": {
      "text/plain": [
       "{'files': {'Ignore List': {'data': '3.62 %', 'total': 5, 'blank': 0},\n",
       "  'MiniYAML': {'data': '0.72 %', 'total': 1, 'blank': 0},\n",
       "  'TOML': {'data': '2.17 %', 'total': 3, 'blank': 0},\n",
       "  'Jupyter Notebook': {'data': '4.35 %', 'total': 6, 'blank': 0},\n",
       "  'GCC Machine Description': {'data': '2.9 %', 'total': 4, 'blank': 0},\n",
       "  'Unknown file': {'data': '39.86 %', 'total': 55, 'blank': 0},\n",
       "  'Dotenv': {'data': '0.72 %', 'total': 1, 'blank': 0},\n",
       "  'Python': {'data': '20.29 %', 'total': 28, 'blank': 3},\n",
       "  'JavaScript': {'data': '1.45 %', 'total': 2, 'blank': 0},\n",
       "  'TypeScript': {'data': '4.35 %', 'total': 6, 'blank': 0},\n",
       "  'JSON': {'data': '5.07 %', 'total': 7, 'blank': 0},\n",
       "  'TSX': {'data': '10.87 %', 'total': 15, 'blank': 0},\n",
       "  'CSS': {'data': '0.72 %', 'total': 1, 'blank': 0},\n",
       "  'Ecmarkup': {'data': '1.45 %', 'total': 2, 'blank': 0},\n",
       "  'Adblock Filter List': {'data': '0.72 %', 'total': 1, 'blank': 0},\n",
       "  'Shell': {'data': '0.72 %', 'total': 1, 'blank': 0}},\n",
       " 'lines': {'Ignore List': {'data': '0.29 %', 'total': 378, 'blank': 71},\n",
       "  'MiniYAML': {'data': '0.01 %', 'total': 16, 'blank': 2},\n",
       "  'TOML': {'data': '0.08 %', 'total': 98, 'blank': 12},\n",
       "  'Jupyter Notebook': {'data': '1.61 %', 'total': 2089, 'blank': 6},\n",
       "  'GCC Machine Description': {'data': '0.17 %', 'total': 218, 'blank': 64},\n",
       "  'Unknown file': {'data': '90.36 %', 'total': 117587, 'blank': 2062},\n",
       "  'Dotenv': {'data': '0.0 %', 'total': 2, 'blank': 1},\n",
       "  'Python': {'data': '1.25 %', 'total': 1622, 'blank': 268},\n",
       "  'JavaScript': {'data': '0.02 %', 'total': 29, 'blank': 6},\n",
       "  'TypeScript': {'data': '0.2 %', 'total': 259, 'blank': 27},\n",
       "  'JSON': {'data': '4.84 %', 'total': 6293, 'blank': 6},\n",
       "  'TSX': {'data': '1.0 %', 'total': 1306, 'blank': 109},\n",
       "  'CSS': {'data': '0.06 %', 'total': 73, 'blank': 5},\n",
       "  'Ecmarkup': {'data': '0.1 %', 'total': 124, 'blank': 7},\n",
       "  'Adblock Filter List': {'data': '0.01 %', 'total': 13, 'blank': 0},\n",
       "  'Shell': {'data': '0.02 %', 'total': 24, 'blank': 3}}}"
      ]
     },
     "execution_count": 14,
     "metadata": {},
     "output_type": "execute_result"
    }
   ],
   "source": [
    "result"
   ]
  },
  {
   "cell_type": "code",
   "execution_count": null,
   "metadata": {},
   "outputs": [],
   "source": []
  }
 ],
 "metadata": {
  "kernelspec": {
   "display_name": "llm",
   "language": "python",
   "name": "python3"
  },
  "language_info": {
   "codemirror_mode": {
    "name": "ipython",
    "version": 3
   },
   "file_extension": ".py",
   "mimetype": "text/x-python",
   "name": "python",
   "nbconvert_exporter": "python",
   "pygments_lexer": "ipython3",
   "version": "3.11.9"
  }
 },
 "nbformat": 4,
 "nbformat_minor": 2
}
