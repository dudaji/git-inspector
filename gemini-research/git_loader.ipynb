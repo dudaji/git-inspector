{
 "cells": [
  {
   "cell_type": "code",
   "execution_count": 2,
   "metadata": {},
   "outputs": [],
   "source": [
    "from langchain_community.document_loaders import GitLoader\n",
    "\n",
    "loader = GitLoader(\n",
    "    clone_url=\"https://github.com/rjwharry/todo\",\n",
    "    repo_path=\"./repo/todo\",\n",
    "    branch=\"main\",\n",
    ")"
   ]
  },
  {
   "cell_type": "code",
   "execution_count": 3,
   "metadata": {},
   "outputs": [
    {
     "name": "stdout",
     "output_type": "stream",
     "text": [
      "page_content='{\n",
      "  \"parser\": \"@typescript-eslint/parser\",\n",
      "  \"plugins\": [\"@typescript-eslint\"],\n",
      "  \"extends\": [\n",
      "    // \"airbnb\",\n",
      "    // \"airbnb/hooks\",\n",
      "    \"plugin:@typescript-eslint/recommended\",\n",
      "    \"plugin:prettier/recommended\"\n",
      "  ],\n",
      "  \"parserOptions\": {\n",
      "    \"project\": \"./tsconfig.json\"\n",
      "  },\n",
      "  \"rules\": {\n",
      "  },\n",
      "  \"settings\": {\n",
      "    \"import/parsers\": {\n",
      "      \"@typescript-eslint/parser\": [\".ts\", \".tsx\"]\n",
      "    },\n",
      "    \"import/resolver\": {\n",
      "      \"typescript\": {\n",
      "        \"alwaysTryTypes\": true // always try to resolve types under `<root>@types` directory even it doesn't contain any source code, like `@types/unist`\n",
      "      }\n",
      "    },\n",
      "    \"project\": [\n",
      "      \"./tsconfig.json\"\n",
      "    ]\n",
      "  }\n",
      "}' metadata={'source': 'dnd-practice/.eslintrc.json', 'file_path': 'dnd-practice/.eslintrc.json', 'file_name': '.eslintrc.json', 'file_type': '.json'}\n"
     ]
    }
   ],
   "source": [
    "data = loader.load()\n",
    "len(data)\n",
    "print(data[0])"
   ]
  },
  {
   "cell_type": "code",
   "execution_count": 4,
   "metadata": {},
   "outputs": [],
   "source": [
    "backend = list(filter(lambda d: d.metadata[\"source\"].startswith(\"backend/\"), data))"
   ]
  },
  {
   "cell_type": "code",
   "execution_count": 5,
   "metadata": {},
   "outputs": [
    {
     "name": "stdout",
     "output_type": "stream",
     "text": [
      "20\n"
     ]
    }
   ],
   "source": [
    "print(len(backend))"
   ]
  },
  {
   "cell_type": "code",
   "execution_count": 6,
   "metadata": {},
   "outputs": [
    {
     "data": {
      "text/plain": [
       "Document(metadata={'source': 'backend/kotlin/src/main/kotlin/com/practice/kotlin/services/TodoService.kt', 'file_path': 'backend/kotlin/src/main/kotlin/com/practice/kotlin/services/TodoService.kt', 'file_name': 'TodoService.kt', 'file_type': '.kt'}, page_content='package com.practice.kotlin.services\\n\\nimport com.practice.kotlin.dto.TodoDto\\nimport com.practice.kotlin.repositories.STATUS\\nimport com.practice.kotlin.repositories.Todo\\nimport com.practice.kotlin.repositories.TodoRepository\\nimport org.springframework.stereotype.Service\\n\\n@Service\\nclass TodoService(private val todoRepository: TodoRepository) {\\n\\tfun getAllTodos(): List<Todo> {\\n\\t\\treturn todoRepository.findAll()\\n\\t}\\n\\n\\tfun getTodoById(id: Long): Todo {\\n\\t\\treturn todoRepository.findById(id).get()\\n\\t}\\n\\n\\n\\tfun createTodo(todo: Todo): Todo {\\n\\t\\tval lastTodo = getLastTodoByStatus(todo.status)\\n\\t\\tval newTodo = todoRepository.save(todo)\\n\\t\\tnewTodo.prev = lastTodo?.id\\n\\t\\tnewTodo.next = null\\n\\t\\ttodoRepository.save(newTodo)\\n\\t\\tlastTodo?.let {\\n\\t\\t\\tlastTodo.next = newTodo.id\\n\\t\\t\\ttodoRepository.save(lastTodo)\\n\\t\\t}\\n\\t\\treturn newTodo\\n\\t}\\n\\n\\tfun updateTodo(id: Long, body: TodoDto): Todo {\\n\\t\\tval todo = deleteFromLinkedList(id)\\n\\t\\tval updatedTodo = insertToLinkedList(todo, body.prev, body.next)\\n\\t\\tupdatedTodo.name = body.todo.name\\n\\t\\tupdatedTodo.contents = body.todo.contents\\n\\t\\tupdatedTodo.status = body.todo.status\\n\\t\\treturn todoRepository.save(updatedTodo)\\n\\t}\\n\\n\\tfun insertToLinkedList(todo: Todo, prev: Long?, next: Long?): Todo {\\n\\t\\tif (prev == -1L || next == -1L) return todo\\n\\t\\tval prevTodo = if (prev != null) getTodoById(prev) else null\\n\\t\\tval nextTodo = if (next != null) getTodoById(next) else null\\n\\t\\ttodo.prev = prev\\n\\t\\ttodo.next = next\\n\\t\\tprevTodo?.let {\\n\\t\\t\\tit.next = todo.id\\n\\t\\t\\ttodoRepository.save(it)\\n\\t\\t}\\n\\t\\tnextTodo?.let {\\n\\t\\t\\tit.prev = todo.id\\n\\t\\t\\ttodoRepository.save(it)\\n\\t\\t}\\n\\t\\treturn todo\\n\\t}\\n\\n\\tfun deleteTodo(id: Long): Todo {\\n\\t\\tval todo = deleteFromLinkedList(id)\\n\\t\\ttodoRepository.deleteById(id)\\n\\t\\treturn todo\\n\\t}\\n\\n\\tfun deleteFromLinkedList(id: Long): Todo {\\n\\t\\tval todo = getTodoById(id)\\n\\t\\tval prevTodo = if (todo.prev != null) getTodoById(todo.prev!!) else null\\n\\t\\tval nextTodo = if (todo.next != null) getTodoById(todo.next!!) else null\\n\\t\\tprevTodo?.let {\\n\\t\\t\\tit.next = nextTodo?.id\\n\\t\\t\\ttodoRepository.save(it)\\n\\t\\t}\\n\\t\\tnextTodo?.let {\\n\\t\\t\\tit.prev = prevTodo?.id\\n\\t\\t\\ttodoRepository.save(it)\\n\\t\\t}\\n\\t\\treturn todo\\n\\t}\\n\\n\\tfun getLastTodoByStatus(status: STATUS): Todo? {\\n\\t\\treturn todoRepository.findByStatusAndNextIsNull(status)\\n\\t}\\n}')"
      ]
     },
     "execution_count": 6,
     "metadata": {},
     "output_type": "execute_result"
    }
   ],
   "source": [
    "backend[-1]"
   ]
  },
  {
   "cell_type": "code",
   "execution_count": 7,
   "metadata": {},
   "outputs": [
    {
     "data": {
      "text/plain": [
       "True"
      ]
     },
     "execution_count": 7,
     "metadata": {},
     "output_type": "execute_result"
    }
   ],
   "source": [
    "import os\n",
    "from dotenv import load_dotenv\n",
    "\n",
    "load_dotenv()"
   ]
  },
  {
   "cell_type": "code",
   "execution_count": 8,
   "metadata": {},
   "outputs": [
    {
     "name": "stderr",
     "output_type": "stream",
     "text": [
      "/Users/dudaji/anaconda3/envs/llm/lib/python3.11/site-packages/tqdm/auto.py:21: TqdmWarning: IProgress not found. Please update jupyter and ipywidgets. See https://ipywidgets.readthedocs.io/en/stable/user_install.html\n",
      "  from .autonotebook import tqdm as notebook_tqdm\n",
      "WARNING: All log messages before absl::InitializeLog() is called are written to STDERR\n",
      "I0000 00:00:1721817529.522144   28250 config.cc:230] gRPC experiments enabled: call_status_override_on_cancellation, event_engine_dns, event_engine_listener, http2_stats_fix, monitoring_experiment, pick_first_new, trace_record_callops, work_serializer_clears_time_cache\n",
      "I0000 00:00:1721817529.541905   28250 check_gcp_environment_no_op.cc:29] ALTS: Platforms other than Linux and Windows are not supported\n",
      "I0000 00:00:1721817529.543461   28250 check_gcp_environment_no_op.cc:29] ALTS: Platforms other than Linux and Windows are not supported\n"
     ]
    }
   ],
   "source": [
    "from langchain_google_genai import ChatGoogleGenerativeAI\n",
    "\n",
    "llm = ChatGoogleGenerativeAI(model=\"models/gemini-1.5-flash-latest\", streaming=True)"
   ]
  },
  {
   "cell_type": "code",
   "execution_count": 9,
   "metadata": {},
   "outputs": [],
   "source": [
    "from langchain_core.output_parsers import JsonOutputParser\n",
    "from langchain_core.pydantic_v1 import BaseModel, Field\n",
    "\n",
    "class Instance(BaseModel):\n",
    "    name: str = Field(description=\"Name of instance type\")\n",
    "    cpu: str = Field(description=\"The number of instance cpu cores\")\n",
    "    memory: str = Field(description=\"The capacity of instance memory (GiB)\")\n",
    "    storage: str = Field(description=\"The capacity of instance storage (GiB)\")\n",
    "    gpu: str = Field(description=\"Name of gpu model and memory (GiB) of instance\")\n",
    "\n",
    "class Cost(BaseModel):\n",
    "    monthly: str = Field(description=\"Estimated monthly measurements\")\n",
    "    hourly: str = Field(description=\"Estimated measurements per hour\")\n",
    "\n",
    "class Estimate(BaseModel):\n",
    "    instance: Instance = Field(description=\"Instance information of Cloud Provider\")\n",
    "    pricing: Cost = Field(description=\"Estimated pricing while running an instance of the instance_type (USD)\")\n",
    "    power_consumption: Cost = Field(description=\"Estimated power consumption while running an instance of the instance_type(kWh)\")\n",
    "    carbon_footprint: Cost = Field(description=\"Estimated carbon footprint while running an instance of the instance_type(kg CO2)\")\n",
    "    description: str = Field(description=\"A rationale and detailed explanation for estimations\")\n",
    "    \n",
    "\n",
    "class Result(BaseModel):\n",
    "    gcp: Estimate = Field(description=\"Estimated Result of Google Cloud Platform(GCP)\")\n",
    "    aws: Estimate = Field(description=\"Estimated Result of Amazon Web Services(AWS)\")\n",
    "    azure: Estimate = Field(description=\"Estimated Result of Microsoft Azure\")\n",
    "    conclusion: Estimate = Field(description=\"The most appropriate among gcp, aws, and azure\")\n",
    "\n",
    "output_parser = JsonOutputParser(pydantic_object=Result)\n",
    "# output_parser = JsonOutputParser()"
   ]
  },
  {
   "cell_type": "code",
   "execution_count": 10,
   "metadata": {},
   "outputs": [],
   "source": [
    "from langchain.prompts import PromptTemplate\n",
    "prompt = PromptTemplate(\n",
    "    template=\"\"\"\n",
    "As an expert in analyzing software repositories and estimating resource consumption and environmental impact, your task is to provide a comprehensive analysis of a GitHub repository.\n",
    "\n",
    "Instructions\n",
    "Analyze the structure of the files in the provided GitHub repository by examining the metadata in the documentation.\n",
    "Identify the entry point of the repository.\n",
    "Determine the minimum resources required to run the repository on GCP, AWS, and Azure platforms.\n",
    "Estimate the instance cost, power consumption, and carbon footprint on each platform.\n",
    "Context\n",
    "The goal is to gain a detailed understanding of the repository’s requirements and its environmental impact. Your analysis should be thorough, taking into account all relevant aspects of the repository and the different cloud platforms.\n",
    "\n",
    "Output\n",
    "Ensure the output is structured in a clear and detailed manner, adhering to the JSON format specified by the following guide: {format_instruction}\n",
    "\n",
    "GitHub Repository\n",
    "{GITHUB}\n",
    "\n",
    "Additional Guidelines\n",
    "Be specific and detailed in your analysis.\n",
    "Provide calculations and assumptions used in estimating resources, costs, and environmental impact.\n",
    "Compare and contrast the findings across the three cloud platforms (GCP, AWS, Azure).\n",
    "Use technical terminology appropriately to convey precision and expertise.\n",
    "\"\"\",\n",
    "    input_variables=[\"GITHUB\"],\n",
    "    partial_variables={\"format_instruction\": output_parser.get_format_instructions()})\n",
    "chain = prompt | llm | output_parser"
   ]
  },
  {
   "cell_type": "code",
   "execution_count": 11,
   "metadata": {},
   "outputs": [
    {
     "data": {
      "text/plain": [
       "{'gcp': {'instance': {'name': 'n1-standard-1',\n",
       "   'cpu': '1 vCPU',\n",
       "   'memory': '3.75 GiB',\n",
       "   'storage': '100 GiB',\n",
       "   'gpu': 'None'},\n",
       "  'pricing': {'monthly': '$14.88', 'hourly': '$0.0104'},\n",
       "  'power_consumption': {'monthly': '216 kWh', 'hourly': '1.5 kWh'},\n",
       "  'carbon_footprint': {'monthly': '17.3 kg CO2', 'hourly': '1.2 kg CO2'},\n",
       "  'description': \"GCP's n1-standard-1 instance is chosen for its balance of processing power and cost-effectiveness. The instance provides 1 vCPU and 3.75 GiB of memory, suitable for running the Kotlin Spring Boot application. The instance also includes 100 GiB of persistent disk for storing data and logs. The monthly cost is calculated based on the on-demand pricing of the instance, and the power consumption is estimated based on the instance's specifications. The carbon footprint is calculated based on the power consumption and the average carbon intensity of the GCP data centers.\"},\n",
       " 'aws': {'instance': {'name': 't3.micro',\n",
       "   'cpu': '1 vCPU',\n",
       "   'memory': '1 GiB',\n",
       "   'storage': '100 GiB',\n",
       "   'gpu': 'None'},\n",
       "  'pricing': {'monthly': '$7.20', 'hourly': '$0.005'},\n",
       "  'power_consumption': {'monthly': '168 kWh', 'hourly': '1.2 kWh'},\n",
       "  'carbon_footprint': {'monthly': '13.4 kg CO2', 'hourly': '0.9 kg CO2'},\n",
       "  'description': \"AWS's t3.micro instance is selected due to its low cost and sufficient resources for the application. It provides 1 vCPU and 1 GiB of memory, which is enough for the Kotlin Spring Boot application. The instance also has 100 GiB of EBS storage for data and logs. The monthly cost is estimated based on the on-demand pricing of the instance, while the power consumption is calculated based on the instance's specifications. The carbon footprint is calculated based on the power consumption and the average carbon intensity of the AWS data centers.\"},\n",
       " 'azure': {'instance': {'name': 'Standard_B1s',\n",
       "   'cpu': '1 vCPU',\n",
       "   'memory': '1 GiB',\n",
       "   'storage': '100 GiB',\n",
       "   'gpu': 'None'},\n",
       "  'pricing': {'monthly': '$5.90', 'hourly': '$0.0041'},\n",
       "  'power_consumption': {'monthly': '144 kWh', 'hourly': '1 kWh'},\n",
       "  'carbon_footprint': {'monthly': '11.5 kg CO2', 'hourly': '0.8 kg CO2'},\n",
       "  'description': \"Azure's Standard_B1s instance is chosen due to its cost-effective nature and sufficient resources for the application. It provides 1 vCPU and 1 GiB of memory, which is enough for the Kotlin Spring Boot application. The instance also includes 100 GiB of standard SSD storage for data and logs. The monthly cost is calculated based on the on-demand pricing of the instance, and the power consumption is estimated based on the instance's specifications. The carbon footprint is calculated based on the power consumption and the average carbon intensity of the Azure data centers.\"},\n",
       " 'conclusion': {'instance': {'name': 'Standard_B1s',\n",
       "   'cpu': '1 vCPU',\n",
       "   'memory': '1 GiB',\n",
       "   'storage': '100 GiB',\n",
       "   'gpu': 'None'},\n",
       "  'pricing': {'monthly': '$5.90', 'hourly': '$0.0041'},\n",
       "  'power_consumption': {'monthly': '144 kWh', 'hourly': '1 kWh'},\n",
       "  'carbon_footprint': {'monthly': '11.5 kg CO2', 'hourly': '0.8 kg CO2'},\n",
       "  'description': \"Based on the analysis, Microsoft Azure's Standard_B1s instance is the most appropriate choice for running the Kotlin Spring Boot application. It offers the lowest monthly cost compared to GCP and AWS, while providing sufficient resources for the application. The instance also has a relatively lower carbon footprint compared to the other two platforms, making it an environmentally responsible option.\"}}"
      ]
     },
     "execution_count": 11,
     "metadata": {},
     "output_type": "execute_result"
    }
   ],
   "source": [
    "# for chunk in chain.stream({\"GITHUB\": backend}):\n",
    "#     print(chunk, end=\"\", flush=True)\n",
    "chain.invoke({\"GITHUB\": backend})"
   ]
  },
  {
   "cell_type": "code",
   "execution_count": null,
   "metadata": {},
   "outputs": [],
   "source": []
  }
 ],
 "metadata": {
  "kernelspec": {
   "display_name": "llm",
   "language": "python",
   "name": "python3"
  },
  "language_info": {
   "codemirror_mode": {
    "name": "ipython",
    "version": 3
   },
   "file_extension": ".py",
   "mimetype": "text/x-python",
   "name": "python",
   "nbconvert_exporter": "python",
   "pygments_lexer": "ipython3",
   "version": "3.11.9"
  }
 },
 "nbformat": 4,
 "nbformat_minor": 2
}
