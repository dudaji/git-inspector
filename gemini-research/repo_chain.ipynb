{
 "cells": [
  {
   "cell_type": "markdown",
   "metadata": {},
   "source": [
    "# Repo Chain\n",
    "- repo를 보고 cloud provider instance 정보 추출\n",
    "- Language ratio 추출"
   ]
  },
  {
   "cell_type": "code",
   "execution_count": 22,
   "metadata": {},
   "outputs": [],
   "source": [
    "import os\n",
    "from dotenv import load_dotenv\n",
    "\n",
    "load_dotenv()\n",
    "os.environ[\"LANGCHAIN_PROJECT\"] = \"Git Analyzer\"\n",
    "os.environ[\"LANGCHAIN_TRACING_V2\"] = \"true\""
   ]
  },
  {
   "cell_type": "code",
   "execution_count": 29,
   "metadata": {},
   "outputs": [],
   "source": [
    "from typing import Dict, Optional\n",
    "from langchain_core.output_parsers import JsonOutputParser, PydanticOutputParser\n",
    "from langchain_core.pydantic_v1 import BaseModel, Field\n",
    "\n",
    "class Instance(BaseModel):\n",
    "    cloud_provider: str = Field(description=\"Name of cloud provider (GCP or AWS or Azure)\")\n",
    "    name: str = Field(description=\"Name of instance type\")\n",
    "    cpu: int = Field(description=\"The number of instance cpu cores\")\n",
    "    ram: float = Field(description=\"The capacity of instance ram (GiB)\")\n",
    "    storage: int = Field(description=\"The capacity of instance storage (GiB)\")\n",
    "    gpu: Optional[str] = Field(default=None, description=\"Name of gpu model and memory (GiB) of instance\")\n",
    "    region: str = Field(description=\"Region of instance\")\n",
    "    cost_per_hour: float = Field(description=\"Cost per Hour of instance\")\n",
    "    description: str = Field(description=\"The detailed process that led to the selection of the minimum specification instance.\")\n",
    "    \n",
    "class RepoResult(BaseModel):\n",
    "    gcp: Instance = Field(description=\"Instance information of GCP\")\n",
    "    aws: Instance = Field(description=\"Instance information of AWS\")\n",
    "    azure: Instance = Field(description=\"Instance information of Azure\")\n",
    "    language_ratio: Dict[str, int] = Field(description=\"The key value is the programming language used and the value is the number of bytes the programming language is used in the entire repository.\")\n",
    "\n",
    "# output_parser = JsonOutputParser(pydantic_object=RepoResult)\n",
    "output_parser = PydanticOutputParser(pydantic_object=RepoResult)"
   ]
  },
  {
   "cell_type": "code",
   "execution_count": 24,
   "metadata": {},
   "outputs": [
    {
     "name": "stderr",
     "output_type": "stream",
     "text": [
      "I0000 00:00:1722698373.962085   15767 check_gcp_environment_no_op.cc:29] ALTS: Platforms other than Linux and Windows are not supported\n",
      "I0000 00:00:1722698373.963072   15767 check_gcp_environment_no_op.cc:29] ALTS: Platforms other than Linux and Windows are not supported\n"
     ]
    }
   ],
   "source": [
    "from langchain_google_genai import ChatGoogleGenerativeAI\n",
    "\n",
    "llm = ChatGoogleGenerativeAI(model=\"models/gemini-1.5-pro-latest\", streaming=True)"
   ]
  },
  {
   "cell_type": "code",
   "execution_count": 25,
   "metadata": {},
   "outputs": [
    {
     "name": "stderr",
     "output_type": "stream",
     "text": [
      "I0000 00:00:1722698377.040744   15767 work_stealing_thread_pool.cc:320] WorkStealingThreadPoolImpl::PrepareFork\n",
      "I0000 00:00:1722698377.041008   15767 fork_posix.cc:77] Other threads are currently calling into gRPC, skipping fork() handlers\n",
      "I0000 00:00:1722698377.077052   15767 work_stealing_thread_pool.cc:320] WorkStealingThreadPoolImpl::PrepareFork\n",
      "I0000 00:00:1722698377.077261   15767 fork_posix.cc:77] Other threads are currently calling into gRPC, skipping fork() handlers\n",
      "I0000 00:00:1722698377.108122   15767 work_stealing_thread_pool.cc:320] WorkStealingThreadPoolImpl::PrepareFork\n",
      "I0000 00:00:1722698377.108362   15767 fork_posix.cc:77] Other threads are currently calling into gRPC, skipping fork() handlers\n",
      "I0000 00:00:1722698377.123794   15767 work_stealing_thread_pool.cc:320] WorkStealingThreadPoolImpl::PrepareFork\n",
      "I0000 00:00:1722698377.123987   15767 fork_posix.cc:77] Other threads are currently calling into gRPC, skipping fork() handlers\n",
      "I0000 00:00:1722698377.187173   15767 work_stealing_thread_pool.cc:320] WorkStealingThreadPoolImpl::PrepareFork\n",
      "I0000 00:00:1722698377.187409   15767 fork_posix.cc:77] Other threads are currently calling into gRPC, skipping fork() handlers\n",
      "I0000 00:00:1722698377.219278   15767 work_stealing_thread_pool.cc:320] WorkStealingThreadPoolImpl::PrepareFork\n",
      "I0000 00:00:1722698377.219471   15767 fork_posix.cc:77] Other threads are currently calling into gRPC, skipping fork() handlers\n",
      "I0000 00:00:1722698377.252662   15767 work_stealing_thread_pool.cc:320] WorkStealingThreadPoolImpl::PrepareFork\n",
      "I0000 00:00:1722698377.252928   15767 fork_posix.cc:77] Other threads are currently calling into gRPC, skipping fork() handlers\n",
      "I0000 00:00:1722698377.287715   15767 work_stealing_thread_pool.cc:320] WorkStealingThreadPoolImpl::PrepareFork\n",
      "I0000 00:00:1722698377.287942   15767 fork_posix.cc:77] Other threads are currently calling into gRPC, skipping fork() handlers\n",
      "I0000 00:00:1722698377.319106   15767 work_stealing_thread_pool.cc:320] WorkStealingThreadPoolImpl::PrepareFork\n",
      "I0000 00:00:1722698377.319327   15767 fork_posix.cc:77] Other threads are currently calling into gRPC, skipping fork() handlers\n",
      "I0000 00:00:1722698377.361040   15767 work_stealing_thread_pool.cc:320] WorkStealingThreadPoolImpl::PrepareFork\n",
      "I0000 00:00:1722698377.361273   15767 fork_posix.cc:77] Other threads are currently calling into gRPC, skipping fork() handlers\n",
      "I0000 00:00:1722698377.393589   15767 work_stealing_thread_pool.cc:320] WorkStealingThreadPoolImpl::PrepareFork\n",
      "I0000 00:00:1722698377.393810   15767 fork_posix.cc:77] Other threads are currently calling into gRPC, skipping fork() handlers\n",
      "I0000 00:00:1722698377.438720   15767 work_stealing_thread_pool.cc:320] WorkStealingThreadPoolImpl::PrepareFork\n",
      "I0000 00:00:1722698377.438949   15767 fork_posix.cc:77] Other threads are currently calling into gRPC, skipping fork() handlers\n",
      "I0000 00:00:1722698377.470874   15767 work_stealing_thread_pool.cc:320] WorkStealingThreadPoolImpl::PrepareFork\n",
      "I0000 00:00:1722698377.471105   15767 fork_posix.cc:77] Other threads are currently calling into gRPC, skipping fork() handlers\n",
      "I0000 00:00:1722698377.511095   15767 work_stealing_thread_pool.cc:320] WorkStealingThreadPoolImpl::PrepareFork\n",
      "I0000 00:00:1722698377.511313   15767 fork_posix.cc:77] Other threads are currently calling into gRPC, skipping fork() handlers\n",
      "I0000 00:00:1722698377.544394   15767 work_stealing_thread_pool.cc:320] WorkStealingThreadPoolImpl::PrepareFork\n",
      "I0000 00:00:1722698377.544609   15767 fork_posix.cc:77] Other threads are currently calling into gRPC, skipping fork() handlers\n",
      "I0000 00:00:1722698377.576444   15767 work_stealing_thread_pool.cc:320] WorkStealingThreadPoolImpl::PrepareFork\n",
      "I0000 00:00:1722698377.576671   15767 fork_posix.cc:77] Other threads are currently calling into gRPC, skipping fork() handlers\n",
      "I0000 00:00:1722698377.624970   15767 work_stealing_thread_pool.cc:320] WorkStealingThreadPoolImpl::PrepareFork\n",
      "I0000 00:00:1722698377.625232   15767 fork_posix.cc:77] Other threads are currently calling into gRPC, skipping fork() handlers\n",
      "I0000 00:00:1722698377.661429   15767 work_stealing_thread_pool.cc:320] WorkStealingThreadPoolImpl::PrepareFork\n",
      "I0000 00:00:1722698377.661641   15767 fork_posix.cc:77] Other threads are currently calling into gRPC, skipping fork() handlers\n",
      "I0000 00:00:1722698377.693831   15767 work_stealing_thread_pool.cc:320] WorkStealingThreadPoolImpl::PrepareFork\n",
      "I0000 00:00:1722698377.694043   15767 fork_posix.cc:77] Other threads are currently calling into gRPC, skipping fork() handlers\n",
      "I0000 00:00:1722698377.727095   15767 work_stealing_thread_pool.cc:320] WorkStealingThreadPoolImpl::PrepareFork\n",
      "I0000 00:00:1722698377.727348   15767 fork_posix.cc:77] Other threads are currently calling into gRPC, skipping fork() handlers\n",
      "I0000 00:00:1722698377.760936   15767 work_stealing_thread_pool.cc:320] WorkStealingThreadPoolImpl::PrepareFork\n",
      "I0000 00:00:1722698377.761143   15767 fork_posix.cc:77] Other threads are currently calling into gRPC, skipping fork() handlers\n",
      "I0000 00:00:1722698377.794013   15767 work_stealing_thread_pool.cc:320] WorkStealingThreadPoolImpl::PrepareFork\n",
      "I0000 00:00:1722698377.794199   15767 fork_posix.cc:77] Other threads are currently calling into gRPC, skipping fork() handlers\n",
      "I0000 00:00:1722698377.826661   15767 work_stealing_thread_pool.cc:320] WorkStealingThreadPoolImpl::PrepareFork\n",
      "I0000 00:00:1722698377.826918   15767 fork_posix.cc:77] Other threads are currently calling into gRPC, skipping fork() handlers\n",
      "I0000 00:00:1722698377.861134   15767 work_stealing_thread_pool.cc:320] WorkStealingThreadPoolImpl::PrepareFork\n",
      "I0000 00:00:1722698377.861356   15767 fork_posix.cc:77] Other threads are currently calling into gRPC, skipping fork() handlers\n",
      "I0000 00:00:1722698377.894105   15767 work_stealing_thread_pool.cc:320] WorkStealingThreadPoolImpl::PrepareFork\n",
      "I0000 00:00:1722698377.894304   15767 fork_posix.cc:77] Other threads are currently calling into gRPC, skipping fork() handlers\n",
      "I0000 00:00:1722698377.926212   15767 work_stealing_thread_pool.cc:320] WorkStealingThreadPoolImpl::PrepareFork\n",
      "I0000 00:00:1722698377.926445   15767 fork_posix.cc:77] Other threads are currently calling into gRPC, skipping fork() handlers\n",
      "I0000 00:00:1722698377.960692   15767 work_stealing_thread_pool.cc:320] WorkStealingThreadPoolImpl::PrepareFork\n",
      "I0000 00:00:1722698377.960916   15767 fork_posix.cc:77] Other threads are currently calling into gRPC, skipping fork() handlers\n",
      "I0000 00:00:1722698377.993080   15767 work_stealing_thread_pool.cc:320] WorkStealingThreadPoolImpl::PrepareFork\n",
      "I0000 00:00:1722698377.993313   15767 fork_posix.cc:77] Other threads are currently calling into gRPC, skipping fork() handlers\n",
      "I0000 00:00:1722698378.024783   15767 work_stealing_thread_pool.cc:320] WorkStealingThreadPoolImpl::PrepareFork\n",
      "I0000 00:00:1722698378.024999   15767 fork_posix.cc:77] Other threads are currently calling into gRPC, skipping fork() handlers\n",
      "I0000 00:00:1722698378.060366   15767 work_stealing_thread_pool.cc:320] WorkStealingThreadPoolImpl::PrepareFork\n",
      "I0000 00:00:1722698378.060574   15767 fork_posix.cc:77] Other threads are currently calling into gRPC, skipping fork() handlers\n",
      "I0000 00:00:1722698378.092936   15767 work_stealing_thread_pool.cc:320] WorkStealingThreadPoolImpl::PrepareFork\n",
      "I0000 00:00:1722698378.093149   15767 fork_posix.cc:77] Other threads are currently calling into gRPC, skipping fork() handlers\n",
      "I0000 00:00:1722698378.124423   15767 work_stealing_thread_pool.cc:320] WorkStealingThreadPoolImpl::PrepareFork\n",
      "I0000 00:00:1722698378.124624   15767 fork_posix.cc:77] Other threads are currently calling into gRPC, skipping fork() handlers\n",
      "I0000 00:00:1722698378.160543   15767 work_stealing_thread_pool.cc:320] WorkStealingThreadPoolImpl::PrepareFork\n",
      "I0000 00:00:1722698378.160772   15767 fork_posix.cc:77] Other threads are currently calling into gRPC, skipping fork() handlers\n",
      "I0000 00:00:1722698378.193215   15767 work_stealing_thread_pool.cc:320] WorkStealingThreadPoolImpl::PrepareFork\n",
      "I0000 00:00:1722698378.193397   15767 fork_posix.cc:77] Other threads are currently calling into gRPC, skipping fork() handlers\n",
      "I0000 00:00:1722698378.225744   15767 work_stealing_thread_pool.cc:320] WorkStealingThreadPoolImpl::PrepareFork\n",
      "I0000 00:00:1722698378.225930   15767 fork_posix.cc:77] Other threads are currently calling into gRPC, skipping fork() handlers\n",
      "I0000 00:00:1722698378.260978   15767 work_stealing_thread_pool.cc:320] WorkStealingThreadPoolImpl::PrepareFork\n",
      "I0000 00:00:1722698378.261190   15767 fork_posix.cc:77] Other threads are currently calling into gRPC, skipping fork() handlers\n",
      "I0000 00:00:1722698378.293952   15767 work_stealing_thread_pool.cc:320] WorkStealingThreadPoolImpl::PrepareFork\n",
      "I0000 00:00:1722698378.294133   15767 fork_posix.cc:77] Other threads are currently calling into gRPC, skipping fork() handlers\n",
      "I0000 00:00:1722698378.326149   15767 work_stealing_thread_pool.cc:320] WorkStealingThreadPoolImpl::PrepareFork\n",
      "I0000 00:00:1722698378.326370   15767 fork_posix.cc:77] Other threads are currently calling into gRPC, skipping fork() handlers\n",
      "I0000 00:00:1722698378.360531   15767 work_stealing_thread_pool.cc:320] WorkStealingThreadPoolImpl::PrepareFork\n",
      "I0000 00:00:1722698378.360760   15767 fork_posix.cc:77] Other threads are currently calling into gRPC, skipping fork() handlers\n",
      "I0000 00:00:1722698378.393627   15767 work_stealing_thread_pool.cc:320] WorkStealingThreadPoolImpl::PrepareFork\n",
      "I0000 00:00:1722698378.393852   15767 fork_posix.cc:77] Other threads are currently calling into gRPC, skipping fork() handlers\n",
      "I0000 00:00:1722698378.425854   15767 work_stealing_thread_pool.cc:320] WorkStealingThreadPoolImpl::PrepareFork\n",
      "I0000 00:00:1722698378.426098   15767 fork_posix.cc:77] Other threads are currently calling into gRPC, skipping fork() handlers\n",
      "I0000 00:00:1722698378.460748   15767 work_stealing_thread_pool.cc:320] WorkStealingThreadPoolImpl::PrepareFork\n",
      "I0000 00:00:1722698378.460938   15767 fork_posix.cc:77] Other threads are currently calling into gRPC, skipping fork() handlers\n",
      "I0000 00:00:1722698378.493184   15767 work_stealing_thread_pool.cc:320] WorkStealingThreadPoolImpl::PrepareFork\n",
      "I0000 00:00:1722698378.493419   15767 fork_posix.cc:77] Other threads are currently calling into gRPC, skipping fork() handlers\n",
      "I0000 00:00:1722698378.524305   15767 work_stealing_thread_pool.cc:320] WorkStealingThreadPoolImpl::PrepareFork\n",
      "I0000 00:00:1722698378.524555   15767 fork_posix.cc:77] Other threads are currently calling into gRPC, skipping fork() handlers\n",
      "I0000 00:00:1722698378.560808   15767 work_stealing_thread_pool.cc:320] WorkStealingThreadPoolImpl::PrepareFork\n",
      "I0000 00:00:1722698378.560994   15767 fork_posix.cc:77] Other threads are currently calling into gRPC, skipping fork() handlers\n",
      "I0000 00:00:1722698378.593316   15767 work_stealing_thread_pool.cc:320] WorkStealingThreadPoolImpl::PrepareFork\n",
      "I0000 00:00:1722698378.593567   15767 fork_posix.cc:77] Other threads are currently calling into gRPC, skipping fork() handlers\n",
      "I0000 00:00:1722698378.625523   15767 work_stealing_thread_pool.cc:320] WorkStealingThreadPoolImpl::PrepareFork\n",
      "I0000 00:00:1722698378.625767   15767 fork_posix.cc:77] Other threads are currently calling into gRPC, skipping fork() handlers\n",
      "I0000 00:00:1722698378.661189   15767 work_stealing_thread_pool.cc:320] WorkStealingThreadPoolImpl::PrepareFork\n",
      "I0000 00:00:1722698378.661450   15767 fork_posix.cc:77] Other threads are currently calling into gRPC, skipping fork() handlers\n",
      "I0000 00:00:1722698378.694193   15767 work_stealing_thread_pool.cc:320] WorkStealingThreadPoolImpl::PrepareFork\n",
      "I0000 00:00:1722698378.694412   15767 fork_posix.cc:77] Other threads are currently calling into gRPC, skipping fork() handlers\n",
      "I0000 00:00:1722698378.727122   15767 work_stealing_thread_pool.cc:320] WorkStealingThreadPoolImpl::PrepareFork\n",
      "I0000 00:00:1722698378.727335   15767 fork_posix.cc:77] Other threads are currently calling into gRPC, skipping fork() handlers\n",
      "I0000 00:00:1722698378.760669   15767 work_stealing_thread_pool.cc:320] WorkStealingThreadPoolImpl::PrepareFork\n",
      "I0000 00:00:1722698378.760855   15767 fork_posix.cc:77] Other threads are currently calling into gRPC, skipping fork() handlers\n",
      "I0000 00:00:1722698378.793174   15767 work_stealing_thread_pool.cc:320] WorkStealingThreadPoolImpl::PrepareFork\n",
      "I0000 00:00:1722698378.793444   15767 fork_posix.cc:77] Other threads are currently calling into gRPC, skipping fork() handlers\n",
      "I0000 00:00:1722698378.825148   15767 work_stealing_thread_pool.cc:320] WorkStealingThreadPoolImpl::PrepareFork\n",
      "I0000 00:00:1722698378.825365   15767 fork_posix.cc:77] Other threads are currently calling into gRPC, skipping fork() handlers\n",
      "I0000 00:00:1722698378.860739   15767 work_stealing_thread_pool.cc:320] WorkStealingThreadPoolImpl::PrepareFork\n",
      "I0000 00:00:1722698378.860960   15767 fork_posix.cc:77] Other threads are currently calling into gRPC, skipping fork() handlers\n",
      "I0000 00:00:1722698378.895636   15767 work_stealing_thread_pool.cc:320] WorkStealingThreadPoolImpl::PrepareFork\n",
      "I0000 00:00:1722698378.895876   15767 fork_posix.cc:77] Other threads are currently calling into gRPC, skipping fork() handlers\n",
      "I0000 00:00:1722698378.961084   15767 work_stealing_thread_pool.cc:320] WorkStealingThreadPoolImpl::PrepareFork\n",
      "I0000 00:00:1722698378.961310   15767 fork_posix.cc:77] Other threads are currently calling into gRPC, skipping fork() handlers\n",
      "I0000 00:00:1722698379.010755   15767 work_stealing_thread_pool.cc:320] WorkStealingThreadPoolImpl::PrepareFork\n",
      "I0000 00:00:1722698379.010986   15767 fork_posix.cc:77] Other threads are currently calling into gRPC, skipping fork() handlers\n",
      "I0000 00:00:1722698379.042639   15767 work_stealing_thread_pool.cc:320] WorkStealingThreadPoolImpl::PrepareFork\n",
      "I0000 00:00:1722698379.042874   15767 fork_posix.cc:77] Other threads are currently calling into gRPC, skipping fork() handlers\n",
      "I0000 00:00:1722698379.075183   15767 work_stealing_thread_pool.cc:320] WorkStealingThreadPoolImpl::PrepareFork\n",
      "I0000 00:00:1722698379.075418   15767 fork_posix.cc:77] Other threads are currently calling into gRPC, skipping fork() handlers\n",
      "I0000 00:00:1722698379.111205   15767 work_stealing_thread_pool.cc:320] WorkStealingThreadPoolImpl::PrepareFork\n",
      "I0000 00:00:1722698379.111435   15767 fork_posix.cc:77] Other threads are currently calling into gRPC, skipping fork() handlers\n",
      "I0000 00:00:1722698379.144551   15767 work_stealing_thread_pool.cc:320] WorkStealingThreadPoolImpl::PrepareFork\n",
      "I0000 00:00:1722698379.144776   15767 fork_posix.cc:77] Other threads are currently calling into gRPC, skipping fork() handlers\n",
      "I0000 00:00:1722698379.177274   15767 work_stealing_thread_pool.cc:320] WorkStealingThreadPoolImpl::PrepareFork\n",
      "I0000 00:00:1722698379.177478   15767 fork_posix.cc:77] Other threads are currently calling into gRPC, skipping fork() handlers\n",
      "I0000 00:00:1722698379.210972   15767 work_stealing_thread_pool.cc:320] WorkStealingThreadPoolImpl::PrepareFork\n",
      "I0000 00:00:1722698379.211179   15767 fork_posix.cc:77] Other threads are currently calling into gRPC, skipping fork() handlers\n",
      "I0000 00:00:1722698379.243121   15767 work_stealing_thread_pool.cc:320] WorkStealingThreadPoolImpl::PrepareFork\n",
      "I0000 00:00:1722698379.243343   15767 fork_posix.cc:77] Other threads are currently calling into gRPC, skipping fork() handlers\n",
      "I0000 00:00:1722698379.274218   15767 work_stealing_thread_pool.cc:320] WorkStealingThreadPoolImpl::PrepareFork\n",
      "I0000 00:00:1722698379.274461   15767 fork_posix.cc:77] Other threads are currently calling into gRPC, skipping fork() handlers\n",
      "I0000 00:00:1722698379.310593   15767 work_stealing_thread_pool.cc:320] WorkStealingThreadPoolImpl::PrepareFork\n",
      "I0000 00:00:1722698379.310832   15767 fork_posix.cc:77] Other threads are currently calling into gRPC, skipping fork() handlers\n",
      "I0000 00:00:1722698379.343524   15767 work_stealing_thread_pool.cc:320] WorkStealingThreadPoolImpl::PrepareFork\n",
      "I0000 00:00:1722698379.343743   15767 fork_posix.cc:77] Other threads are currently calling into gRPC, skipping fork() handlers\n",
      "I0000 00:00:1722698379.375855   15767 work_stealing_thread_pool.cc:320] WorkStealingThreadPoolImpl::PrepareFork\n",
      "I0000 00:00:1722698379.376061   15767 fork_posix.cc:77] Other threads are currently calling into gRPC, skipping fork() handlers\n",
      "I0000 00:00:1722698379.410558   15767 work_stealing_thread_pool.cc:320] WorkStealingThreadPoolImpl::PrepareFork\n",
      "I0000 00:00:1722698379.410743   15767 fork_posix.cc:77] Other threads are currently calling into gRPC, skipping fork() handlers\n"
     ]
    },
    {
     "data": {
      "text/plain": [
       "20"
      ]
     },
     "execution_count": 25,
     "metadata": {},
     "output_type": "execute_result"
    }
   ],
   "source": [
    "from langchain_community.document_loaders import GitLoader\n",
    "\n",
    "repo_path = \"./repo/todo\"\n",
    "loader = GitLoader(\n",
    "    clone_url=\"https://github.com/rjwharry/todo.git\",\n",
    "    repo_path=repo_path,\n",
    "    branch=\"main\",\n",
    ")\n",
    "data = loader.load()\n",
    "backend = list(filter(lambda d: d.metadata[\"source\"].startswith(\"backend/\"), data))\n",
    "len(backend)"
   ]
  },
  {
   "cell_type": "code",
   "execution_count": 8,
   "metadata": {},
   "outputs": [],
   "source": [
    "from langchain.prompts import PromptTemplate\n",
    "# Output\n",
    "# Ensure the output is structured in a clear and detailed manner, adhering to the JSON format specified by the following guide: {format_instruction}\n",
    "prompt = PromptTemplate(\n",
    "    template=\"\"\"\n",
    "As an expert in analyzing software repositories and estimating resource consumption and environmental impact, your task is to provide a comprehensive analysis of a GitHub repository.\n",
    "\n",
    "Instructions\n",
    "Analyze the structure of the files in the provided GitHub repository by examining the metadata in the documentation.\n",
    "Identify the entry point of the repository.\n",
    "Determine the minimum resources required to run the repository on GCP, AWS, and Azure platforms.\n",
    "Estimate the power consumption, and carbon footprint on each platform.\n",
    "{format_instruction}\n",
    "Context\n",
    "The goal is to gain a detailed understanding of the repository’s requirements and its environmental impact. Your analysis should be thorough, taking into account all relevant aspects of the repository and the different cloud platforms.\n",
    "\n",
    "\n",
    "GitHub Repository\n",
    "{GITHUB}\n",
    "\n",
    "Additional Guidelines\n",
    "Be specific and detailed in your analysis.\n",
    "Provide calculations and assumptions used in estimating resources and environmental impact.\n",
    "Compare and contrast the findings across the three cloud platforms (GCP, AWS, Azure).\n",
    "Use technical terminology appropriately to convey precision and expertise.\n",
    "\"\"\",\n",
    "    input_variables=[\"GITHUB\"],\n",
    "    partial_variables={\"format_instruction\": output_parser.get_format_instructions()}\n",
    "    )\n",
    "chain = prompt | llm | output_parser"
   ]
  },
  {
   "cell_type": "code",
   "execution_count": 9,
   "metadata": {},
   "outputs": [
    {
     "name": "stderr",
     "output_type": "stream",
     "text": [
      "I0000 00:00:1722680214.542598   53315 work_stealing_thread_pool.cc:320] WorkStealingThreadPoolImpl::PrepareFork\n",
      "I0000 00:00:1722680214.542884   53315 fork_posix.cc:77] Other threads are currently calling into gRPC, skipping fork() handlers\n"
     ]
    }
   ],
   "source": [
    "repo_result = chain.invoke({\"GITHUB\": backend})"
   ]
  },
  {
   "cell_type": "code",
   "execution_count": 30,
   "metadata": {},
   "outputs": [],
   "source": [
    "repo_result = RepoResult(\n",
    "    gcp=Instance(\n",
    "        cloud_provider='GCP', \n",
    "        name='e2-medium', \n",
    "        cpu=2, \n",
    "        ram=4.0, \n",
    "        storage=10, \n",
    "        gpu='None', \n",
    "        region='us-central1', \n",
    "        cost_per_hour=0.0516, \n",
    "        description=\"This application requires a minimum of 2 vCPUs and 2GB of RAM to run. A simple Java application with Spring Boot and MySQL usually doesn't demand high CPU or memory resources. Therefore, an e2-medium instance, which provides a balance of performance and cost, is chosen. 10GB of storage is sufficient for this application and its data. The application does not require a GPU. The us-central1 region offers a good balance of cost and latency for many users.\"),\n",
    "    aws=Instance(\n",
    "        cloud_provider='AWS', \n",
    "        name='t3.medium', \n",
    "        cpu=2, \n",
    "        ram=4.0, \n",
    "        storage=10, \n",
    "        gpu='None', \n",
    "        region='us-east-1', \n",
    "        cost_per_hour=0.0468, \n",
    "        description=\"This application requires a minimum of 2 vCPUs and 2GB of RAM to run. A simple Java application with Spring Boot and MySQL usually doesn't demand high CPU or memory resources. Therefore, a t3.medium instance, which provides a balance of performance and cost, is chosen. 10GB of storage is sufficient for this application and its data. The application does not require a GPU. The us-east-1 region offers a good balance of cost and latency for many users.\"),\n",
    "    azure=Instance(cloud_provider='Azure', name='Standard_B2s', cpu=2, ram=4.0, storage=10, gpu='None', region='eastus', cost_per_hour=0.0456, description=\"This application requires a minimum of 2 vCPUs and 2GB of RAM to run. A simple Java application with Spring Boot and MySQL usually doesn't demand high CPU or memory resources. Therefore, a Standard_B2s instance, which provides a balance of performance and cost, is chosen. 10GB of storage is sufficient for this application and its data. The application does not require a GPU. The eastus region offers a good balance of cost and latency for many users.\"),\n",
    "    language_ratio={'Kotlin': 1754, 'Properties': 1056, 'YAML': 810, 'Shell': 3607, 'Batch': 2830, 'JSON': 2742}\n",
    ")\n"
   ]
  },
  {
   "cell_type": "markdown",
   "metadata": {},
   "source": [
    "# Get Best Instance\n",
    "- gemini에서 추론한 instance spec을 기반으로 최신 데이터와 대조하여 가장 싼 가격의 instance 추출"
   ]
  },
  {
   "cell_type": "code",
   "execution_count": 31,
   "metadata": {},
   "outputs": [],
   "source": [
    "from math import inf\n",
    "from typing import Dict\n",
    "from google.cloud.firestore_v1.base_query import FieldFilter, Or, And\n",
    "import firebase_admin\n",
    "from firebase_admin import credentials\n",
    "from firebase_admin import firestore\n",
    "\n",
    "def get_latest_price(instance: Instance) -> Instance:\n",
    "    if not firebase_admin._apps:\n",
    "        cred = credentials.Certificate('firebase-svc-account-key.json')\n",
    "        app = firebase_admin.initialize_app(cred)\n",
    "    db = firestore.client()\n",
    "    ref = db.collection(\"cloud_cost\")\n",
    "    vendor_filter = FieldFilter(\"vendor\", \"==\", instance.cloud_provider)\n",
    "    name_filter = FieldFilter(\"name\", \"==\", instance.name)\n",
    "    cpu_filter = FieldFilter(\"cpu\", \"==\", instance.cpu)\n",
    "    ram_filter = FieldFilter(\"ram\", \"==\", instance.ram)\n",
    "    resource_filter = And(filters=[cpu_filter, ram_filter])\n",
    "    instance_filter = Or(filters=[name_filter, resource_filter])\n",
    "    final_filter = And(filters=[vendor_filter, instance_filter])\n",
    "    docs = ref.where(filter=final_filter).stream()\n",
    "\n",
    "    lowest_instance = {\"cost_per_hour\": float(inf)}\n",
    "    for doc in docs:\n",
    "        if lowest_instance[\"cost_per_hour\"] > doc.to_dict()[\"cost_per_hour\"]:\n",
    "            lowest_instance = doc.to_dict()\n",
    "    instance = Instance(\n",
    "        cloud_provider=instance.cloud_provider,\n",
    "        name=lowest_instance[\"name\"], \n",
    "        cpu=lowest_instance[\"cpu\"], \n",
    "        ram=lowest_instance[\"ram\"], \n",
    "        storage=instance.storage,\n",
    "        gpu=lowest_instance[\"gpu\"],\n",
    "        region=lowest_instance[\"region\"],\n",
    "        cost_per_hour=lowest_instance[\"cost_per_hour\"],\n",
    "        description=instance.description,\n",
    "    )\n",
    "    return instance"
   ]
  },
  {
   "cell_type": "code",
   "execution_count": 32,
   "metadata": {},
   "outputs": [],
   "source": [
    "best_aws_instance = get_latest_price(repo_result.aws)\n",
    "best_gcp_instance = get_latest_price(repo_result.gcp)"
   ]
  },
  {
   "cell_type": "code",
   "execution_count": 33,
   "metadata": {},
   "outputs": [],
   "source": [
    "repo_result.aws = best_aws_instance\n",
    "repo_result.gcp = best_gcp_instance"
   ]
  },
  {
   "cell_type": "code",
   "execution_count": 35,
   "metadata": {},
   "outputs": [
    {
     "data": {
      "text/plain": [
       "RepoResult(gcp=Instance(cloud_provider='GCP', name='e2-medium', cpu=1, ram=4.0, storage=10, gpu=None, region='us-central1', cost_per_hour=0.0169861111111111, description=\"This application requires a minimum of 2 vCPUs and 2GB of RAM to run. A simple Java application with Spring Boot and MySQL usually doesn't demand high CPU or memory resources. Therefore, an e2-medium instance, which provides a balance of performance and cost, is chosen. 10GB of storage is sufficient for this application and its data. The application does not require a GPU. The us-central1 region offers a good balance of cost and latency for many users.\"), aws=Instance(cloud_provider='AWS', name='t3.medium', cpu=2, ram=4.0, storage=10, gpu=None, region='us-east-1', cost_per_hour=0.0441, description=\"This application requires a minimum of 2 vCPUs and 2GB of RAM to run. A simple Java application with Spring Boot and MySQL usually doesn't demand high CPU or memory resources. Therefore, a t3.medium instance, which provides a balance of performance and cost, is chosen. 10GB of storage is sufficient for this application and its data. The application does not require a GPU. The us-east-1 region offers a good balance of cost and latency for many users.\"), azure=Instance(cloud_provider='Azure', name='Standard_B2s', cpu=2, ram=4.0, storage=10, gpu='None', region='eastus', cost_per_hour=0.0456, description=\"This application requires a minimum of 2 vCPUs and 2GB of RAM to run. A simple Java application with Spring Boot and MySQL usually doesn't demand high CPU or memory resources. Therefore, a Standard_B2s instance, which provides a balance of performance and cost, is chosen. 10GB of storage is sufficient for this application and its data. The application does not require a GPU. The eastus region offers a good balance of cost and latency for many users.\"), language_ratio={'Kotlin': 1754, 'Properties': 1056, 'YAML': 810, 'Shell': 3607, 'Batch': 2830, 'JSON': 2742})"
      ]
     },
     "execution_count": 35,
     "metadata": {},
     "output_type": "execute_result"
    }
   ],
   "source": [
    "repo_result"
   ]
  },
  {
   "cell_type": "markdown",
   "metadata": {},
   "source": [
    "# Calculate estimated power consumption and carbon footprint\n",
    "- RepoResult를 기반으로 각 instance의 power consumption과 carbon footprint 계산"
   ]
  },
  {
   "cell_type": "code",
   "execution_count": 31,
   "metadata": {},
   "outputs": [],
   "source": [
    "from typing import Dict\n",
    "from langchain_core.output_parsers import JsonOutputParser, PydanticOutputParser\n",
    "from langchain_core.pydantic_v1 import BaseModel, Field\n",
    "\n",
    "class Estimate(BaseModel):\n",
    "    power_consumption: str = Field(\n",
    "        description=\"Estimated hourly power consumption while running an instance of the instance_type(kWh). Example: 0.06 kWh\",\n",
    "    )\n",
    "    carbon_footprint: str = Field(\n",
    "        description=\"Estimated hourly carbon footprint while running an instance of the instance_type(kg CO2). Example: 0.025 kg CO2\"\n",
    "    )\n",
    "    description: str = Field(\n",
    "        description=\"Detailed calculation process for estimating power consumption and carbon emissions.\"\n",
    "    )    \n",
    "class CalculateResult(BaseModel):\n",
    "    gcp: Estimate = Field(description=\"Estimate result of GCP\")\n",
    "    aws: Estimate = Field(description=\"Estimate result of AWS\")\n",
    "    azure: Estimate = Field(description=\"Estimate result of Azure\")\n",
    "\n",
    "output_parser = PydanticOutputParser(pydantic_object=CalculateResult)"
   ]
  },
  {
   "cell_type": "code",
   "execution_count": 32,
   "metadata": {},
   "outputs": [],
   "source": [
    "from langchain.prompts import PromptTemplate\n",
    "# Output\n",
    "# Ensure the output is structured in a clear and detailed manner, adhering to the JSON format specified by the following guide: {format_instruction}\n",
    "prompt = PromptTemplate(\n",
    "    template=\"\"\"As an expert in cloud computing and sustainability, provide a detailed estimation of the hourly power consumption and carbon footprint for the specified instance specs from the leading cloud providers: AWS, GCP, and Azure.\n",
    "\n",
    "Instructions:\n",
    "Analyze the instance specifications provided for each cloud provider.\n",
    "Calculate the hourly power consumption based on the given specs.\n",
    "Estimate the carbon footprint associated with the hourly power consumption.\n",
    "Use the most recent data and metrics available for accurate estimations.\n",
    "Present the results clearly and concisely.\n",
    "Instance Specifications:\n",
    "AWS: {aws}\n",
    "\n",
    "GCP: {gcp}\n",
    "\n",
    "Azure: {azure}\n",
    "\n",
    "Desired Format:\n",
    "{format_instruction}\n",
    "Ensure that your calculations are accurate and well-documented. Provide references to any data sources or formulas used in the estimation process.\n",
    "\"\"\",\n",
    "    input_variables=[\"aws\", \"gcp\", \"azure\"],\n",
    "    partial_variables={\"format_instruction\": output_parser.get_format_instructions()}\n",
    "    )\n",
    "chain = prompt | llm | output_parser"
   ]
  },
  {
   "cell_type": "code",
   "execution_count": 33,
   "metadata": {},
   "outputs": [],
   "source": [
    "import json\n",
    "def instance_without_description(instance: Instance):\n",
    "    instance_dict = json.loads(instance.json())\n",
    "    del instance_dict[\"description\"]\n",
    "    return json.dumps(instance_dict)\n",
    "\n",
    "aws_dict = instance_without_description(repo_result.aws)\n",
    "gcp_dict = instance_without_description(repo_result.gcp)\n",
    "azure_dict = instance_without_description(repo_result.azure)\n"
   ]
  },
  {
   "cell_type": "code",
   "execution_count": 34,
   "metadata": {},
   "outputs": [],
   "source": [
    "calculate_result = chain.invoke({\n",
    "    \"aws\": aws_dict, \n",
    "    \"gcp\": gcp_dict, \n",
    "    \"azure\": azure_dict,\n",
    "})"
   ]
  },
  {
   "cell_type": "code",
   "execution_count": 35,
   "metadata": {},
   "outputs": [
    {
     "name": "stdout",
     "output_type": "stream",
     "text": [
      "gcp=Estimate(power_consumption='0.05 kWh', carbon_footprint='0.015 kg CO2', description='Based on the GCP Carbon Footprint calculator and assuming a e2-medium instance in us-central1 region (highly efficient cooling and a carbon free energy source), the estimated power consumption is 50W/hr (0.05 kWh) and the carbon footprint is 0.015 kg CO2 per hour.  \\n\\nReferences:\\n* GCP Carbon Footprint calculator: https://cloud.google.com/carbon-footprint') aws=Estimate(power_consumption='0.06 kWh', carbon_footprint='0.026 kg CO2', description=\"Assuming a t3.medium instance consumes approximately 60W/hr (0.06 kWh) based on industry averages for similar instance types and AWS's commitment to renewable energy. The carbon footprint is estimated using the average carbon intensity of the US electricity grid (0.43 kg CO2/kWh) from the EPA. \\n\\nReferences:\\n* EPA Greenhouse Gas Equivalencies Calculator: https://www.epa.gov/energy/greenhouse-gas-equivalencies-calculator\") azure=Estimate(power_consumption='0.055 kWh', carbon_footprint='0.024 kg CO2', description=\"Based on an estimated power consumption of 55W/hr (0.055 kWh) for a Standard_B2s instance, derived from Azure's sustainability efforts and industry benchmarks.  The carbon footprint is calculated using the average carbon intensity of the US electricity grid (0.43 kg CO2/kWh) from the EPA. \\n\\nReferences:\\n* Microsoft Azure Sustainability: https://azure.microsoft.com/en-us/global-infrastructure/sustainability/\\n* EPA Greenhouse Gas Equivalencies Calculator: https://www.epa.gov/energy/greenhouse-gas-equivalencies-calculator\")\n"
     ]
    }
   ],
   "source": [
    "print(calculate_result)"
   ]
  },
  {
   "cell_type": "markdown",
   "metadata": {},
   "source": [
    "# Select the best instance\n",
    "- instance, language_ratio, estimation 정보를 다 모아서 마지막으로 가장 좋은 instance 선택"
   ]
  },
  {
   "cell_type": "code",
   "execution_count": 6,
   "metadata": {},
   "outputs": [],
   "source": [
    "from langchain_core.output_parsers import PydanticOutputParser\n",
    "class InstanceResult(BaseModel):\n",
    "    instance: Instance = Field(description=\"Instance information\")\n",
    "    estimate: Estimate = Field(description=\"Estimate result of instance\")\n",
    "\n",
    "class BestInstance(BaseModel):\n",
    "    conclusion: InstanceResult = Field(description=\"The most appropriate among gcp, aws, and azure\")\n",
    "\n",
    "output_parser = PydanticOutputParser(pydantic_object=BestInstance)"
   ]
  },
  {
   "cell_type": "code",
   "execution_count": 42,
   "metadata": {},
   "outputs": [],
   "source": [
    "from langchain.prompts import PromptTemplate\n",
    "# Output\n",
    "# Ensure the output is structured in a clear and detailed manner, adhering to the JSON format specified by the following guide: {format_instruction}\n",
    "prompt = PromptTemplate(\n",
    "    template=\"\"\"As an expert in cloud computing economics and environmental sustainability, identify the most economical and environmentally friendly instance among the provided options from AWS, GCP, and Azure.\n",
    "\n",
    "Instructions:\n",
    "Analyze the instance specifications and estimation results provided for each cloud provider.\n",
    "Compare the hourly cost and carbon footprint of each instance.\n",
    "Determine which instance offers the best balance of cost efficiency and low environmental impact.\n",
    "Clearly explain the reasoning behind your choice, supported by data.\n",
    "\n",
    "Instance Specifications and Estimation Results:\n",
    "\n",
    "AWS: {aws}\n",
    "\n",
    "GCP: {gcp}\n",
    "\n",
    "Azure: {azure}\n",
    "\n",
    "Desired Format:\n",
    "{format_instruction}\n",
    "\n",
    "Ensure that your analysis is thorough and well-documented. Provide references to any data sources or formulas used in the estimation process.\n",
    "\"\"\",\n",
    "    input_variables=[\"aws\", \"gcp\", \"azure\"],\n",
    "    partial_variables={\"format_instruction\": output_parser.get_format_instructions()}\n",
    "    )\n",
    "chain = prompt | llm | output_parser"
   ]
  },
  {
   "cell_type": "code",
   "execution_count": 43,
   "metadata": {},
   "outputs": [],
   "source": [
    "aws = InstanceResult(instance=repo_result.aws, estimate=calculate_result.aws)\n",
    "gcp = InstanceResult(instance=repo_result.gcp, estimate=calculate_result.gcp)\n",
    "azure = InstanceResult(instance=repo_result.azure, estimate=calculate_result.azure)"
   ]
  },
  {
   "cell_type": "code",
   "execution_count": 44,
   "metadata": {},
   "outputs": [],
   "source": [
    "best_instance_result = chain.invoke({\n",
    "    \"aws\": str(aws), \n",
    "    \"gcp\": str(gcp), \n",
    "    \"azure\": str(azure),\n",
    "})"
   ]
  },
  {
   "cell_type": "code",
   "execution_count": 48,
   "metadata": {},
   "outputs": [],
   "source": [
    "best_instance = gemini_best_instance_result"
   ]
  },
  {
   "cell_type": "code",
   "execution_count": 28,
   "metadata": {},
   "outputs": [
    {
     "ename": "NameError",
     "evalue": "name 'InstanceResult' is not defined",
     "output_type": "error",
     "traceback": [
      "\u001b[0;31m---------------------------------------------------------------------------\u001b[0m",
      "\u001b[0;31mNameError\u001b[0m                                 Traceback (most recent call last)",
      "Cell \u001b[0;32mIn[28], line 1\u001b[0m\n\u001b[0;32m----> 1\u001b[0m \u001b[38;5;28;43;01mclass\u001b[39;49;00m\u001b[43m \u001b[49m\u001b[38;5;21;43;01mFinalResponse\u001b[39;49;00m\u001b[43m(\u001b[49m\u001b[43mBaseModel\u001b[49m\u001b[43m)\u001b[49m\u001b[43m:\u001b[49m\n\u001b[1;32m      2\u001b[0m \u001b[43m    \u001b[49m\u001b[43maws\u001b[49m\u001b[43m:\u001b[49m\u001b[43m \u001b[49m\u001b[43mInstanceResult\u001b[49m\u001b[43m \u001b[49m\u001b[38;5;241;43m=\u001b[39;49m\u001b[43m \u001b[49m\u001b[43mField\u001b[49m\u001b[43m(\u001b[49m\u001b[43mdescription\u001b[49m\u001b[38;5;241;43m=\u001b[39;49m\u001b[38;5;124;43m\"\u001b[39;49m\u001b[38;5;124;43mInformation of instance and estimation\u001b[39;49m\u001b[38;5;124;43m\"\u001b[39;49m\u001b[43m)\u001b[49m\n\u001b[1;32m      3\u001b[0m \u001b[43m    \u001b[49m\u001b[43mgcp\u001b[49m\u001b[43m:\u001b[49m\u001b[43m \u001b[49m\u001b[43mInstanceResult\u001b[49m\u001b[43m \u001b[49m\u001b[38;5;241;43m=\u001b[39;49m\u001b[43m \u001b[49m\u001b[43mField\u001b[49m\u001b[43m(\u001b[49m\u001b[43mdescription\u001b[49m\u001b[38;5;241;43m=\u001b[39;49m\u001b[38;5;124;43m\"\u001b[39;49m\u001b[38;5;124;43mInformation of instance and estimation\u001b[39;49m\u001b[38;5;124;43m\"\u001b[39;49m\u001b[43m)\u001b[49m\n",
      "Cell \u001b[0;32mIn[28], line 2\u001b[0m, in \u001b[0;36mFinalResponse\u001b[0;34m()\u001b[0m\n\u001b[1;32m      1\u001b[0m \u001b[38;5;28;01mclass\u001b[39;00m \u001b[38;5;21;01mFinalResponse\u001b[39;00m(BaseModel):\n\u001b[0;32m----> 2\u001b[0m     aws: \u001b[43mInstanceResult\u001b[49m \u001b[38;5;241m=\u001b[39m Field(description\u001b[38;5;241m=\u001b[39m\u001b[38;5;124m\"\u001b[39m\u001b[38;5;124mInformation of instance and estimation\u001b[39m\u001b[38;5;124m\"\u001b[39m)\n\u001b[1;32m      3\u001b[0m     gcp: InstanceResult \u001b[38;5;241m=\u001b[39m Field(description\u001b[38;5;241m=\u001b[39m\u001b[38;5;124m\"\u001b[39m\u001b[38;5;124mInformation of instance and estimation\u001b[39m\u001b[38;5;124m\"\u001b[39m)\n\u001b[1;32m      4\u001b[0m     azure: InstanceResult \u001b[38;5;241m=\u001b[39m Field(description\u001b[38;5;241m=\u001b[39m\u001b[38;5;124m\"\u001b[39m\u001b[38;5;124mInformation of instance and estimation\u001b[39m\u001b[38;5;124m\"\u001b[39m)\n",
      "\u001b[0;31mNameError\u001b[0m: name 'InstanceResult' is not defined"
     ]
    }
   ],
   "source": [
    "class FinalResponse(BaseModel):\n",
    "    aws: InstanceResult = Field(description=\"Information of instance and estimation\")\n",
    "    gcp: InstanceResult = Field(description=\"Information of instance and estimation\")\n",
    "    azure: InstanceResult = Field(description=\"Information of instance and estimation\")\n",
    "    conclusion: InstanceResult = Field(description=\"The most appropriate among gcp, aws, and azure\")\n",
    "    language_ratio: Dict[str, int] = Field(description=\"The key value is the programming language used and the value is the number of bytes the programming language is used in the entire repository.\")"
   ]
  },
  {
   "cell_type": "code",
   "execution_count": 26,
   "metadata": {},
   "outputs": [
    {
     "ename": "NameError",
     "evalue": "name 'FinalResponse' is not defined",
     "output_type": "error",
     "traceback": [
      "\u001b[0;31m---------------------------------------------------------------------------\u001b[0m",
      "\u001b[0;31mNameError\u001b[0m                                 Traceback (most recent call last)",
      "Cell \u001b[0;32mIn[26], line 1\u001b[0m\n\u001b[0;32m----> 1\u001b[0m final_response \u001b[38;5;241m=\u001b[39m \u001b[43mFinalResponse\u001b[49m(\n\u001b[1;32m      2\u001b[0m     aws\u001b[38;5;241m=\u001b[39maws, \n\u001b[1;32m      3\u001b[0m     gcp\u001b[38;5;241m=\u001b[39mgcp, \n\u001b[1;32m      4\u001b[0m     azure\u001b[38;5;241m=\u001b[39mazure, \n\u001b[1;32m      5\u001b[0m     conclusion\u001b[38;5;241m=\u001b[39mbest_instance\u001b[38;5;241m.\u001b[39mconclusion, \n\u001b[1;32m      6\u001b[0m     language_ratio\u001b[38;5;241m=\u001b[39mrepo_result\u001b[38;5;241m.\u001b[39mlanguage_ratio\n\u001b[1;32m      7\u001b[0m )\n\u001b[1;32m      8\u001b[0m final_response\n",
      "\u001b[0;31mNameError\u001b[0m: name 'FinalResponse' is not defined"
     ]
    }
   ],
   "source": [
    "final_response = FinalResponse(\n",
    "    aws=aws, \n",
    "    gcp=gcp, \n",
    "    azure=azure, \n",
    "    conclusion=best_instance.conclusion, \n",
    "    language_ratio=repo_result.language_ratio\n",
    ")\n",
    "final_response"
   ]
  },
  {
   "cell_type": "code",
   "execution_count": 27,
   "metadata": {},
   "outputs": [
    {
     "ename": "NameError",
     "evalue": "name 'FinalResponse' is not defined",
     "output_type": "error",
     "traceback": [
      "\u001b[0;31m---------------------------------------------------------------------------\u001b[0m",
      "\u001b[0;31mNameError\u001b[0m                                 Traceback (most recent call last)",
      "Cell \u001b[0;32mIn[27], line 1\u001b[0m\n\u001b[0;32m----> 1\u001b[0m final_response \u001b[38;5;241m=\u001b[39m \u001b[43mFinalResponse\u001b[49m(\u001b[38;5;241m*\u001b[39m\u001b[38;5;241m*\u001b[39m{\u001b[38;5;124m\"\u001b[39m\u001b[38;5;124maws\u001b[39m\u001b[38;5;124m\"\u001b[39m: {\u001b[38;5;124m\"\u001b[39m\u001b[38;5;124minstance\u001b[39m\u001b[38;5;124m\"\u001b[39m: {\u001b[38;5;124m\"\u001b[39m\u001b[38;5;124mcloud_provider\u001b[39m\u001b[38;5;124m\"\u001b[39m: \u001b[38;5;124m\"\u001b[39m\u001b[38;5;124mAWS\u001b[39m\u001b[38;5;124m\"\u001b[39m, \u001b[38;5;124m\"\u001b[39m\u001b[38;5;124mname\u001b[39m\u001b[38;5;124m\"\u001b[39m: \u001b[38;5;124m\"\u001b[39m\u001b[38;5;124mt3.medium\u001b[39m\u001b[38;5;124m\"\u001b[39m, \u001b[38;5;124m\"\u001b[39m\u001b[38;5;124mcpu\u001b[39m\u001b[38;5;124m\"\u001b[39m: \u001b[38;5;241m2\u001b[39m, \u001b[38;5;124m\"\u001b[39m\u001b[38;5;124mram\u001b[39m\u001b[38;5;124m\"\u001b[39m: \u001b[38;5;241m4.0\u001b[39m, \u001b[38;5;124m\"\u001b[39m\u001b[38;5;124mstorage\u001b[39m\u001b[38;5;124m\"\u001b[39m: \u001b[38;5;241m10\u001b[39m, \u001b[38;5;124m\"\u001b[39m\u001b[38;5;124mgpu\u001b[39m\u001b[38;5;124m\"\u001b[39m: \u001b[38;5;28;01mNone\u001b[39;00m, \u001b[38;5;124m\"\u001b[39m\u001b[38;5;124mregion\u001b[39m\u001b[38;5;124m\"\u001b[39m: \u001b[38;5;124m\"\u001b[39m\u001b[38;5;124mus-east-1\u001b[39m\u001b[38;5;124m\"\u001b[39m, \u001b[38;5;124m\"\u001b[39m\u001b[38;5;124mcost_per_hour\u001b[39m\u001b[38;5;124m\"\u001b[39m: \u001b[38;5;241m0.0441\u001b[39m, \u001b[38;5;124m\"\u001b[39m\u001b[38;5;124mdescription\u001b[39m\u001b[38;5;124m\"\u001b[39m: \u001b[38;5;124m\"\u001b[39m\u001b[38;5;124mThis application requires a minimum of 2 vCPUs and 2GB of RAM to run. A simple Java application with Spring Boot and MySQL usually doesn\u001b[39m\u001b[38;5;124m'\u001b[39m\u001b[38;5;124mt demand high CPU or memory resources. Therefore, a t3.medium instance, which provides a balance of performance and cost, is chosen. 10GB of storage is sufficient for this application and its data. The application does not require a GPU. The us-east-1 region offers a good balance of cost and latency for many users.\u001b[39m\u001b[38;5;124m\"\u001b[39m}, \u001b[38;5;124m\"\u001b[39m\u001b[38;5;124mestimate\u001b[39m\u001b[38;5;124m\"\u001b[39m: {\u001b[38;5;124m\"\u001b[39m\u001b[38;5;124mpower_consumption\u001b[39m\u001b[38;5;124m\"\u001b[39m: \u001b[38;5;124m\"\u001b[39m\u001b[38;5;124m0.06 kWh\u001b[39m\u001b[38;5;124m\"\u001b[39m, \u001b[38;5;124m\"\u001b[39m\u001b[38;5;124mcarbon_footprint\u001b[39m\u001b[38;5;124m\"\u001b[39m: \u001b[38;5;124m\"\u001b[39m\u001b[38;5;124m0.025 kg CO2\u001b[39m\u001b[38;5;124m\"\u001b[39m, \u001b[38;5;124m\"\u001b[39m\u001b[38;5;124mdescription\u001b[39m\u001b[38;5;124m\"\u001b[39m: \u001b[38;5;124m\"\u001b[39m\u001b[38;5;124mBased on the AWS power consumption data for t3.medium instance and considering a sustained CPU utilization of 40\u001b[39m\u001b[38;5;124m%\u001b[39m\u001b[38;5;124m, the estimated hourly power consumption is 0.06 kWh. This calculation considers the PUE of AWS data centers. The carbon footprint is estimated to be 0.025 kg CO2 per hour, based on the region\u001b[39m\u001b[38;5;124m'\u001b[39m\u001b[38;5;124ms grid carbon intensity and AWS\u001b[39m\u001b[38;5;124m'\u001b[39m\u001b[38;5;124ms sustainability initiatives.\u001b[39m\u001b[38;5;124m\"\u001b[39m}}, \u001b[38;5;124m\"\u001b[39m\u001b[38;5;124mgcp\u001b[39m\u001b[38;5;124m\"\u001b[39m: {\u001b[38;5;124m\"\u001b[39m\u001b[38;5;124minstance\u001b[39m\u001b[38;5;124m\"\u001b[39m: {\u001b[38;5;124m\"\u001b[39m\u001b[38;5;124mcloud_provider\u001b[39m\u001b[38;5;124m\"\u001b[39m: \u001b[38;5;124m\"\u001b[39m\u001b[38;5;124mGCP\u001b[39m\u001b[38;5;124m\"\u001b[39m, \u001b[38;5;124m\"\u001b[39m\u001b[38;5;124mname\u001b[39m\u001b[38;5;124m\"\u001b[39m: \u001b[38;5;124m\"\u001b[39m\u001b[38;5;124me2-medium\u001b[39m\u001b[38;5;124m\"\u001b[39m, \u001b[38;5;124m\"\u001b[39m\u001b[38;5;124mcpu\u001b[39m\u001b[38;5;124m\"\u001b[39m: \u001b[38;5;241m1\u001b[39m, \u001b[38;5;124m\"\u001b[39m\u001b[38;5;124mram\u001b[39m\u001b[38;5;124m\"\u001b[39m: \u001b[38;5;241m4.0\u001b[39m, \u001b[38;5;124m\"\u001b[39m\u001b[38;5;124mstorage\u001b[39m\u001b[38;5;124m\"\u001b[39m: \u001b[38;5;241m10\u001b[39m, \u001b[38;5;124m\"\u001b[39m\u001b[38;5;124mgpu\u001b[39m\u001b[38;5;124m\"\u001b[39m: \u001b[38;5;28;01mNone\u001b[39;00m, \u001b[38;5;124m\"\u001b[39m\u001b[38;5;124mregion\u001b[39m\u001b[38;5;124m\"\u001b[39m: \u001b[38;5;124m\"\u001b[39m\u001b[38;5;124mus-central1\u001b[39m\u001b[38;5;124m\"\u001b[39m, \u001b[38;5;124m\"\u001b[39m\u001b[38;5;124mcost_per_hour\u001b[39m\u001b[38;5;124m\"\u001b[39m: \u001b[38;5;241m0.0169861111111111\u001b[39m, \u001b[38;5;124m\"\u001b[39m\u001b[38;5;124mdescription\u001b[39m\u001b[38;5;124m\"\u001b[39m: \u001b[38;5;124m\"\u001b[39m\u001b[38;5;124mThis application requires a minimum of 2 vCPUs and 2GB of RAM to run. A simple Java application with Spring Boot and MySQL usually doesn\u001b[39m\u001b[38;5;124m'\u001b[39m\u001b[38;5;124mt demand high CPU or memory resources. Therefore, an e2-medium instance, which provides a balance of performance and cost, is chosen. 10GB of storage is sufficient for this application and its data. The application does not require a GPU. The us-central1 region offers a good balance of cost and latency for many users.\u001b[39m\u001b[38;5;124m\"\u001b[39m}, \u001b[38;5;124m\"\u001b[39m\u001b[38;5;124mestimate\u001b[39m\u001b[38;5;124m\"\u001b[39m: {\u001b[38;5;124m\"\u001b[39m\u001b[38;5;124mpower_consumption\u001b[39m\u001b[38;5;124m\"\u001b[39m: \u001b[38;5;124m\"\u001b[39m\u001b[38;5;124m0.05 kWh\u001b[39m\u001b[38;5;124m\"\u001b[39m, \u001b[38;5;124m\"\u001b[39m\u001b[38;5;124mcarbon_footprint\u001b[39m\u001b[38;5;124m\"\u001b[39m: \u001b[38;5;124m\"\u001b[39m\u001b[38;5;124m0.01 kg CO2\u001b[39m\u001b[38;5;124m\"\u001b[39m, \u001b[38;5;124m\"\u001b[39m\u001b[38;5;124mdescription\u001b[39m\u001b[38;5;124m\"\u001b[39m: \u001b[38;5;124m\"\u001b[39m\u001b[38;5;124mBased on the GCP Carbon Footprint calculator and considering the e2-medium instance located in us-central1 region has a sustained CPU utilization of 40\u001b[39m\u001b[38;5;124m%\u001b[39m\u001b[38;5;124m, the estimated hourly power consumption is 0.05 kWh. This calculation considers the PUE of Google Cloud\u001b[39m\u001b[38;5;124m'\u001b[39m\u001b[38;5;124ms data centers. The carbon footprint is estimated to be 0.01 kg CO2 per hour, based on the region\u001b[39m\u001b[38;5;124m'\u001b[39m\u001b[38;5;124ms grid carbon intensity and Google\u001b[39m\u001b[38;5;124m'\u001b[39m\u001b[38;5;124ms commitment to renewable energy.\u001b[39m\u001b[38;5;124m\"\u001b[39m}}, \u001b[38;5;124m\"\u001b[39m\u001b[38;5;124mazure\u001b[39m\u001b[38;5;124m\"\u001b[39m: {\u001b[38;5;124m\"\u001b[39m\u001b[38;5;124minstance\u001b[39m\u001b[38;5;124m\"\u001b[39m: {\u001b[38;5;124m\"\u001b[39m\u001b[38;5;124mcloud_provider\u001b[39m\u001b[38;5;124m\"\u001b[39m: \u001b[38;5;124m\"\u001b[39m\u001b[38;5;124mAzure\u001b[39m\u001b[38;5;124m\"\u001b[39m, \u001b[38;5;124m\"\u001b[39m\u001b[38;5;124mname\u001b[39m\u001b[38;5;124m\"\u001b[39m: \u001b[38;5;124m\"\u001b[39m\u001b[38;5;124mStandard_B2s\u001b[39m\u001b[38;5;124m\"\u001b[39m, \u001b[38;5;124m\"\u001b[39m\u001b[38;5;124mcpu\u001b[39m\u001b[38;5;124m\"\u001b[39m: \u001b[38;5;241m2\u001b[39m, \u001b[38;5;124m\"\u001b[39m\u001b[38;5;124mram\u001b[39m\u001b[38;5;124m\"\u001b[39m: \u001b[38;5;241m4.0\u001b[39m, \u001b[38;5;124m\"\u001b[39m\u001b[38;5;124mstorage\u001b[39m\u001b[38;5;124m\"\u001b[39m: \u001b[38;5;241m10\u001b[39m, \u001b[38;5;124m\"\u001b[39m\u001b[38;5;124mgpu\u001b[39m\u001b[38;5;124m\"\u001b[39m: \u001b[38;5;124m\"\u001b[39m\u001b[38;5;124mNone\u001b[39m\u001b[38;5;124m\"\u001b[39m, \u001b[38;5;124m\"\u001b[39m\u001b[38;5;124mregion\u001b[39m\u001b[38;5;124m\"\u001b[39m: \u001b[38;5;124m\"\u001b[39m\u001b[38;5;124meastus\u001b[39m\u001b[38;5;124m\"\u001b[39m, \u001b[38;5;124m\"\u001b[39m\u001b[38;5;124mcost_per_hour\u001b[39m\u001b[38;5;124m\"\u001b[39m: \u001b[38;5;241m0.0456\u001b[39m, \u001b[38;5;124m\"\u001b[39m\u001b[38;5;124mdescription\u001b[39m\u001b[38;5;124m\"\u001b[39m: \u001b[38;5;124m\"\u001b[39m\u001b[38;5;124mThis application requires a minimum of 2 vCPUs and 2GB of RAM to run. A simple Java application with Spring Boot and MySQL usually doesn\u001b[39m\u001b[38;5;124m'\u001b[39m\u001b[38;5;124mt demand high CPU or memory resources. Therefore, a Standard_B2s instance, which provides a balance of performance and cost, is chosen. 10GB of storage is sufficient for this application and its data. The application does not require a GPU. The eastus region offers a good balance of cost and latency for many users.\u001b[39m\u001b[38;5;124m\"\u001b[39m}, \u001b[38;5;124m\"\u001b[39m\u001b[38;5;124mestimate\u001b[39m\u001b[38;5;124m\"\u001b[39m: {\u001b[38;5;124m\"\u001b[39m\u001b[38;5;124mpower_consumption\u001b[39m\u001b[38;5;124m\"\u001b[39m: \u001b[38;5;124m\"\u001b[39m\u001b[38;5;124m0.07 kWh\u001b[39m\u001b[38;5;124m\"\u001b[39m, \u001b[38;5;124m\"\u001b[39m\u001b[38;5;124mcarbon_footprint\u001b[39m\u001b[38;5;124m\"\u001b[39m: \u001b[38;5;124m\"\u001b[39m\u001b[38;5;124m0.03 kg CO2\u001b[39m\u001b[38;5;124m\"\u001b[39m, \u001b[38;5;124m\"\u001b[39m\u001b[38;5;124mdescription\u001b[39m\u001b[38;5;124m\"\u001b[39m: \u001b[38;5;124m\"\u001b[39m\u001b[38;5;124mBased on the Azure Sustainability Calculator and considering the Standard_B2s instance located in the eastus region has a sustained CPU utilization of 40\u001b[39m\u001b[38;5;124m%\u001b[39m\u001b[38;5;124m, the estimated hourly power consumption is 0.07 kWh. This calculation considers the PUE of Azure\u001b[39m\u001b[38;5;124m'\u001b[39m\u001b[38;5;124ms data centers. The carbon footprint is estimated to be 0.03 kg CO2 per hour, based on the region\u001b[39m\u001b[38;5;124m'\u001b[39m\u001b[38;5;124ms grid carbon intensity and Microsoft\u001b[39m\u001b[38;5;124m'\u001b[39m\u001b[38;5;124ms commitment to renewable energy.\u001b[39m\u001b[38;5;124m\"\u001b[39m}}, \u001b[38;5;124m\"\u001b[39m\u001b[38;5;124mconclusion\u001b[39m\u001b[38;5;124m\"\u001b[39m: {\u001b[38;5;124m\"\u001b[39m\u001b[38;5;124minstance\u001b[39m\u001b[38;5;124m\"\u001b[39m: {\u001b[38;5;124m\"\u001b[39m\u001b[38;5;124mcloud_provider\u001b[39m\u001b[38;5;124m\"\u001b[39m: \u001b[38;5;124m\"\u001b[39m\u001b[38;5;124mGCP\u001b[39m\u001b[38;5;124m\"\u001b[39m, \u001b[38;5;124m\"\u001b[39m\u001b[38;5;124mname\u001b[39m\u001b[38;5;124m\"\u001b[39m: \u001b[38;5;124m\"\u001b[39m\u001b[38;5;124me2-medium\u001b[39m\u001b[38;5;124m\"\u001b[39m, \u001b[38;5;124m\"\u001b[39m\u001b[38;5;124mcpu\u001b[39m\u001b[38;5;124m\"\u001b[39m: \u001b[38;5;241m1\u001b[39m, \u001b[38;5;124m\"\u001b[39m\u001b[38;5;124mram\u001b[39m\u001b[38;5;124m\"\u001b[39m: \u001b[38;5;241m4.0\u001b[39m, \u001b[38;5;124m\"\u001b[39m\u001b[38;5;124mstorage\u001b[39m\u001b[38;5;124m\"\u001b[39m: \u001b[38;5;241m10\u001b[39m, \u001b[38;5;124m\"\u001b[39m\u001b[38;5;124mgpu\u001b[39m\u001b[38;5;124m\"\u001b[39m: \u001b[38;5;124m\"\u001b[39m\u001b[38;5;124mNone\u001b[39m\u001b[38;5;124m\"\u001b[39m, \u001b[38;5;124m\"\u001b[39m\u001b[38;5;124mregion\u001b[39m\u001b[38;5;124m\"\u001b[39m: \u001b[38;5;124m\"\u001b[39m\u001b[38;5;124mus-central1\u001b[39m\u001b[38;5;124m\"\u001b[39m, \u001b[38;5;124m\"\u001b[39m\u001b[38;5;124mcost_per_hour\u001b[39m\u001b[38;5;124m\"\u001b[39m: \u001b[38;5;241m0.0169861111111111\u001b[39m, \u001b[38;5;124m\"\u001b[39m\u001b[38;5;124mdescription\u001b[39m\u001b[38;5;124m\"\u001b[39m: \u001b[38;5;124m\"\u001b[39m\u001b[38;5;124mThis application requires a minimum of 2 vCPUs and 2GB of RAM to run. A simple Java application with Spring Boot and MySQL usually doesn\u001b[39m\u001b[38;5;124m'\u001b[39m\u001b[38;5;124mt demand high CPU or memory resources. Therefore, an e2-medium instance, which provides a balance of performance and cost, is chosen. 10GB of storage is sufficient for this application and its data. The application does not require a GPU. The us-central1 region offers a good balance of cost and latency for many users.\u001b[39m\u001b[38;5;124m\"\u001b[39m}, \u001b[38;5;124m\"\u001b[39m\u001b[38;5;124mestimate\u001b[39m\u001b[38;5;124m\"\u001b[39m: {\u001b[38;5;124m\"\u001b[39m\u001b[38;5;124mpower_consumption\u001b[39m\u001b[38;5;124m\"\u001b[39m: \u001b[38;5;124m\"\u001b[39m\u001b[38;5;124m0.05 kWh\u001b[39m\u001b[38;5;124m\"\u001b[39m, \u001b[38;5;124m\"\u001b[39m\u001b[38;5;124mcarbon_footprint\u001b[39m\u001b[38;5;124m\"\u001b[39m: \u001b[38;5;124m\"\u001b[39m\u001b[38;5;124m0.01 kg CO2\u001b[39m\u001b[38;5;124m\"\u001b[39m, \u001b[38;5;124m\"\u001b[39m\u001b[38;5;124mdescription\u001b[39m\u001b[38;5;124m\"\u001b[39m: \u001b[38;5;124m\"\u001b[39m\u001b[38;5;124mBased on the GCP Carbon Footprint calculator and considering the e2-medium instance located in us-central1 region has a sustained CPU utilization of 40\u001b[39m\u001b[38;5;124m%\u001b[39m\u001b[38;5;124m, the estimated hourly power consumption is 0.05 kWh. This calculation considers the PUE of Google Cloud\u001b[39m\u001b[38;5;124m'\u001b[39m\u001b[38;5;124ms data centers. The carbon footprint is estimated to be 0.01 kg CO2 per hour, based on the region\u001b[39m\u001b[38;5;124m'\u001b[39m\u001b[38;5;124ms grid carbon intensity and Google\u001b[39m\u001b[38;5;124m'\u001b[39m\u001b[38;5;124ms commitment to renewable energy.\u001b[39m\u001b[38;5;124m\"\u001b[39m}}, \u001b[38;5;124m\"\u001b[39m\u001b[38;5;124mlanguage_ratio\u001b[39m\u001b[38;5;124m\"\u001b[39m: {\u001b[38;5;124m\"\u001b[39m\u001b[38;5;124mKotlin\u001b[39m\u001b[38;5;124m\"\u001b[39m: \u001b[38;5;241m1754\u001b[39m, \u001b[38;5;124m\"\u001b[39m\u001b[38;5;124mProperties\u001b[39m\u001b[38;5;124m\"\u001b[39m: \u001b[38;5;241m1056\u001b[39m, \u001b[38;5;124m\"\u001b[39m\u001b[38;5;124mYAML\u001b[39m\u001b[38;5;124m\"\u001b[39m: \u001b[38;5;241m810\u001b[39m, \u001b[38;5;124m\"\u001b[39m\u001b[38;5;124mShell\u001b[39m\u001b[38;5;124m\"\u001b[39m: \u001b[38;5;241m3607\u001b[39m, \u001b[38;5;124m\"\u001b[39m\u001b[38;5;124mBatch\u001b[39m\u001b[38;5;124m\"\u001b[39m: \u001b[38;5;241m2830\u001b[39m, \u001b[38;5;124m\"\u001b[39m\u001b[38;5;124mJSON\u001b[39m\u001b[38;5;124m\"\u001b[39m: \u001b[38;5;241m2742\u001b[39m}})\n",
      "\u001b[0;31mNameError\u001b[0m: name 'FinalResponse' is not defined"
     ]
    }
   ],
   "source": [
    "final_response = FinalResponse(**{\"aws\": {\"instance\": {\"cloud_provider\": \"AWS\", \"name\": \"t3.medium\", \"cpu\": 2, \"ram\": 4.0, \"storage\": 10, \"gpu\": None, \"region\": \"us-east-1\", \"cost_per_hour\": 0.0441, \"description\": \"This application requires a minimum of 2 vCPUs and 2GB of RAM to run. A simple Java application with Spring Boot and MySQL usually doesn't demand high CPU or memory resources. Therefore, a t3.medium instance, which provides a balance of performance and cost, is chosen. 10GB of storage is sufficient for this application and its data. The application does not require a GPU. The us-east-1 region offers a good balance of cost and latency for many users.\"}, \"estimate\": {\"power_consumption\": \"0.06 kWh\", \"carbon_footprint\": \"0.025 kg CO2\", \"description\": \"Based on the AWS power consumption data for t3.medium instance and considering a sustained CPU utilization of 40%, the estimated hourly power consumption is 0.06 kWh. This calculation considers the PUE of AWS data centers. The carbon footprint is estimated to be 0.025 kg CO2 per hour, based on the region's grid carbon intensity and AWS's sustainability initiatives.\"}}, \"gcp\": {\"instance\": {\"cloud_provider\": \"GCP\", \"name\": \"e2-medium\", \"cpu\": 1, \"ram\": 4.0, \"storage\": 10, \"gpu\": None, \"region\": \"us-central1\", \"cost_per_hour\": 0.0169861111111111, \"description\": \"This application requires a minimum of 2 vCPUs and 2GB of RAM to run. A simple Java application with Spring Boot and MySQL usually doesn't demand high CPU or memory resources. Therefore, an e2-medium instance, which provides a balance of performance and cost, is chosen. 10GB of storage is sufficient for this application and its data. The application does not require a GPU. The us-central1 region offers a good balance of cost and latency for many users.\"}, \"estimate\": {\"power_consumption\": \"0.05 kWh\", \"carbon_footprint\": \"0.01 kg CO2\", \"description\": \"Based on the GCP Carbon Footprint calculator and considering the e2-medium instance located in us-central1 region has a sustained CPU utilization of 40%, the estimated hourly power consumption is 0.05 kWh. This calculation considers the PUE of Google Cloud's data centers. The carbon footprint is estimated to be 0.01 kg CO2 per hour, based on the region's grid carbon intensity and Google's commitment to renewable energy.\"}}, \"azure\": {\"instance\": {\"cloud_provider\": \"Azure\", \"name\": \"Standard_B2s\", \"cpu\": 2, \"ram\": 4.0, \"storage\": 10, \"gpu\": \"None\", \"region\": \"eastus\", \"cost_per_hour\": 0.0456, \"description\": \"This application requires a minimum of 2 vCPUs and 2GB of RAM to run. A simple Java application with Spring Boot and MySQL usually doesn't demand high CPU or memory resources. Therefore, a Standard_B2s instance, which provides a balance of performance and cost, is chosen. 10GB of storage is sufficient for this application and its data. The application does not require a GPU. The eastus region offers a good balance of cost and latency for many users.\"}, \"estimate\": {\"power_consumption\": \"0.07 kWh\", \"carbon_footprint\": \"0.03 kg CO2\", \"description\": \"Based on the Azure Sustainability Calculator and considering the Standard_B2s instance located in the eastus region has a sustained CPU utilization of 40%, the estimated hourly power consumption is 0.07 kWh. This calculation considers the PUE of Azure's data centers. The carbon footprint is estimated to be 0.03 kg CO2 per hour, based on the region's grid carbon intensity and Microsoft's commitment to renewable energy.\"}}, \"conclusion\": {\"instance\": {\"cloud_provider\": \"GCP\", \"name\": \"e2-medium\", \"cpu\": 1, \"ram\": 4.0, \"storage\": 10, \"gpu\": \"None\", \"region\": \"us-central1\", \"cost_per_hour\": 0.0169861111111111, \"description\": \"This application requires a minimum of 2 vCPUs and 2GB of RAM to run. A simple Java application with Spring Boot and MySQL usually doesn't demand high CPU or memory resources. Therefore, an e2-medium instance, which provides a balance of performance and cost, is chosen. 10GB of storage is sufficient for this application and its data. The application does not require a GPU. The us-central1 region offers a good balance of cost and latency for many users.\"}, \"estimate\": {\"power_consumption\": \"0.05 kWh\", \"carbon_footprint\": \"0.01 kg CO2\", \"description\": \"Based on the GCP Carbon Footprint calculator and considering the e2-medium instance located in us-central1 region has a sustained CPU utilization of 40%, the estimated hourly power consumption is 0.05 kWh. This calculation considers the PUE of Google Cloud's data centers. The carbon footprint is estimated to be 0.01 kg CO2 per hour, based on the region's grid carbon intensity and Google's commitment to renewable energy.\"}}, \"language_ratio\": {\"Kotlin\": 1754, \"Properties\": 1056, \"YAML\": 810, \"Shell\": 3607, \"Batch\": 2830, \"JSON\": 2742}})"
   ]
  },
  {
   "cell_type": "code",
   "execution_count": 23,
   "metadata": {},
   "outputs": [
    {
     "data": {
      "text/plain": [
       "InstanceResult(instance=Instance(cloud_provider='AWS', name='t3.medium', cpu=2, ram=4.0, storage=10, gpu=None, region='us-east-1', cost_per_hour=0.0441, description=\"This application requires a minimum of 2 vCPUs and 2GB of RAM to run. A simple Java application with Spring Boot and MySQL usually doesn't demand high CPU or memory resources. Therefore, a t3.medium instance, which provides a balance of performance and cost, is chosen. 10GB of storage is sufficient for this application and its data. The application does not require a GPU. The us-east-1 region offers a good balance of cost and latency for many users.\"), estimate=Estimate(power_consumption='0.06 kWh', carbon_footprint='0.025 kg CO2', description=\"Based on the AWS power consumption data for t3.medium instance and considering a sustained CPU utilization of 40%, the estimated hourly power consumption is 0.06 kWh. This calculation considers the PUE of AWS data centers. The carbon footprint is estimated to be 0.025 kg CO2 per hour, based on the region's grid carbon intensity and AWS's sustainability initiatives.\"))"
      ]
     },
     "execution_count": 23,
     "metadata": {},
     "output_type": "execute_result"
    }
   ],
   "source": [
    "final_response.aws"
   ]
  },
  {
   "cell_type": "code",
   "execution_count": 20,
   "metadata": {},
   "outputs": [],
   "source": [
    "from typing import List\n",
    "\n",
    "\n",
    "def select_best_instance() -> InstanceResult:\n",
    "    instances: List[InstanceResult] = [final_response.aws, final_response.gcp, final_response.azure]\n",
    "    # Normalize cost and carbon footprint to a 0-1 scale\n",
    "    costs = [instance.instance.cost_per_hour for instance in instances]\n",
    "    power_consumptions = [float(instance.estimate.power_consumption.split(\" \", 1)[0]) for instance in instances]\n",
    "    footprints = [float(instance.estimate.carbon_footprint.split(\" \", 1)[0]) for instance in instances]\n",
    "    print(power_consumptions)\n",
    "    print(footprints)\n",
    "\n",
    "    min_cost, max_cost = min(costs), max(costs)\n",
    "    min_footprint, max_footprint = min(footprints), max(footprints)\n",
    "    min_power, max_power = min(power_consumptions), max(power_consumptions)\n",
    "\n",
    "    def normalize(value, min_value, max_value):\n",
    "        return (value - min_value) / (max_value - min_value) if max_value > min_value else 0\n",
    "\n",
    "    best_instance = None\n",
    "    best_score = float('inf')\n",
    "\n",
    "    for instance in instances:\n",
    "        normalized_cost = normalize(instance.instance.cost_per_hour, min_cost, max_cost)\n",
    "        normalized_footprint = normalize(float(instance.estimate.carbon_footprint.split(\" \", 1)[0]), min_footprint, max_footprint)\n",
    "        normalized_power = normalize(float(instance.estimate.power_consumption.split(\" \", 1)[0]), min_power, max_power)\n",
    "        \n",
    "        # Adjust the weightage if needed\n",
    "        score = normalized_cost + normalized_footprint + normalized_power\n",
    "        \n",
    "        if score < best_score:\n",
    "            best_score = score\n",
    "            best_instance = instance\n",
    "\n",
    "    return best_instance"
   ]
  },
  {
   "cell_type": "code",
   "execution_count": 21,
   "metadata": {},
   "outputs": [
    {
     "name": "stdout",
     "output_type": "stream",
     "text": [
      "[0.06, 0.05, 0.07]\n",
      "[0.025, 0.01, 0.03]\n"
     ]
    },
    {
     "data": {
      "text/plain": [
       "InstanceResult(instance=Instance(cloud_provider='GCP', name='e2-medium', cpu=1, ram=4.0, storage=10, gpu=None, region='us-central1', cost_per_hour=0.0169861111111111, description=\"This application requires a minimum of 2 vCPUs and 2GB of RAM to run. A simple Java application with Spring Boot and MySQL usually doesn't demand high CPU or memory resources. Therefore, an e2-medium instance, which provides a balance of performance and cost, is chosen. 10GB of storage is sufficient for this application and its data. The application does not require a GPU. The us-central1 region offers a good balance of cost and latency for many users.\"), estimate=Estimate(power_consumption='0.05 kWh', carbon_footprint='0.01 kg CO2', description=\"Based on the GCP Carbon Footprint calculator and considering the e2-medium instance located in us-central1 region has a sustained CPU utilization of 40%, the estimated hourly power consumption is 0.05 kWh. This calculation considers the PUE of Google Cloud's data centers. The carbon footprint is estimated to be 0.01 kg CO2 per hour, based on the region's grid carbon intensity and Google's commitment to renewable energy.\"))"
      ]
     },
     "execution_count": 21,
     "metadata": {},
     "output_type": "execute_result"
    }
   ],
   "source": [
    "select_best_instance()"
   ]
  },
  {
   "cell_type": "code",
   "execution_count": null,
   "metadata": {},
   "outputs": [],
   "source": []
  }
 ],
 "metadata": {
  "kernelspec": {
   "display_name": "llm",
   "language": "python",
   "name": "python3"
  },
  "language_info": {
   "codemirror_mode": {
    "name": "ipython",
    "version": 3
   },
   "file_extension": ".py",
   "mimetype": "text/x-python",
   "name": "python",
   "nbconvert_exporter": "python",
   "pygments_lexer": "ipython3",
   "version": "3.11.9"
  }
 },
 "nbformat": 4,
 "nbformat_minor": 2
}
