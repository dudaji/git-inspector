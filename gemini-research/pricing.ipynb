{
 "cells": [
  {
   "cell_type": "markdown",
   "metadata": {},
   "source": [
    "# 가격, 전원, 탄소 계산에 필요한 정보\n",
    "1. Instance Cost (Hourly, Monthly)\n",
    "1. Storage Cost (Hourly, Monthly)\n",
    "1. OS\n",
    "1. \n",
    "- 계산을 어떻게 할 지, 계산에 필요한 정보들을 파악하고 수집하는 방법 모색해야 함"
   ]
  },
  {
   "cell_type": "code",
   "execution_count": 4,
   "metadata": {},
   "outputs": [],
   "source": [
    "from typing import Dict, Optional\n",
    "from langchain_core.output_parsers import PydanticOutputParser\n",
    "from langchain_core.pydantic_v1 import BaseModel, Field\n",
    "\n",
    "\n",
    "class Instance(BaseModel):\n",
    "    cloud_provider: str = Field(\n",
    "        description=\"Name of cloud provider (GCP or AWS or Azure)\"\n",
    "    )\n",
    "    name: str = Field(description=\"Name of instance type\")\n",
    "    cpu: int = Field(description=\"The number of instance cpu cores\")\n",
    "    ram: float = Field(description=\"The capacity of instance ram (GiB)\")\n",
    "    storage: int = Field(description=\"The capacity of instance storage (GiB)\")\n",
    "    gpu: Optional[str] = Field(\n",
    "        default=None, description=\"Name of gpu model and memory (GiB) of instance\"\n",
    "    )\n",
    "    region: str = Field(description=\"Region of instance\")\n",
    "    cost_per_hour: float = Field(description=\"Cost per Hour of instance\")\n",
    "    description: str = Field(\n",
    "        description=\"The detailed process that led to the selection of the minimum specification instance.\"\n",
    "    )\n",
    "\n",
    "\n",
    "class RepoResult(BaseModel):\n",
    "    gcp: Instance = Field(description=\"Instance information of GCP\")\n",
    "    aws: Instance = Field(description=\"Instance information of AWS\")\n",
    "    azure: Instance = Field(description=\"Instance information of Azure\")\n",
    "    language_ratio: Dict[str, int] = Field(\n",
    "        description=\"The key value is the programming language used and the value is the number of bytes the programming language is used in the entire repository.\"\n",
    "    )\n",
    "\n",
    "\n",
    "class Estimate(BaseModel):\n",
    "    power_consumption: str = Field(\n",
    "        description=\"Estimated hourly power consumption while running an instance of the instance_type(kWh). Example: 0.06 kWh\",\n",
    "    )\n",
    "    carbon_footprint: str = Field(\n",
    "        description=\"Estimated hourly carbon footprint while running an instance of the instance_type(kg CO2). Example: 0.025 kg CO2\"\n",
    "    )\n",
    "    description: str = Field(\n",
    "        description=\"Detailed calculation process for estimating power consumption and carbon emissions.\"\n",
    "    )\n",
    "\n",
    "\n",
    "class CalculateResult(BaseModel):\n",
    "    gcp: Estimate = Field(description=\"Estimate result of GCP\")\n",
    "    aws: Estimate = Field(description=\"Estimate result of AWS\")\n",
    "    azure: Estimate = Field(description=\"Estimate result of Azure\")\n",
    "\n",
    "\n",
    "class InstanceResult(BaseModel):\n",
    "    instance: Instance = Field(description=\"Instance information\")\n",
    "    estimate: Estimate = Field(description=\"Estimate result of instance\")\n",
    "\n",
    "class FinalResponse(BaseModel):\n",
    "    aws: InstanceResult = Field(description=\"Information of instance and estimation\")\n",
    "    gcp: InstanceResult = Field(description=\"Information of instance and estimation\")\n",
    "    azure: InstanceResult = Field(description=\"Information of instance and estimation\")\n",
    "    conclusion: InstanceResult = Field(\n",
    "        description=\"The most appropriate among gcp, aws, and azure\"\n",
    "    )\n",
    "    language_ratio: Dict[str, int] = Field(\n",
    "        description=\"The key value is the programming language used and the value is the number of bytes the programming language is used in the entire repository.\"\n",
    "    )"
   ]
  },
  {
   "cell_type": "code",
   "execution_count": 5,
   "metadata": {},
   "outputs": [],
   "source": [
    "final_response = FinalResponse(**{\"aws\": {\"instance\": {\"cloud_provider\": \"AWS\", \"name\": \"t3.medium\", \"cpu\": 2, \"ram\": 4.0, \"storage\": 10, \"gpu\": None, \"region\": \"us-east-1\", \"cost_per_hour\": 0.0441, \"description\": \"This application requires a minimum of 2 vCPUs and 2GB of RAM to run. A simple Java application with Spring Boot and MySQL usually doesn't demand high CPU or memory resources. Therefore, a t3.medium instance, which provides a balance of performance and cost, is chosen. 10GB of storage is sufficient for this application and its data. The application does not require a GPU. The us-east-1 region offers a good balance of cost and latency for many users.\"}, \"estimate\": {\"power_consumption\": \"0.06 kWh\", \"carbon_footprint\": \"0.025 kg CO2\", \"description\": \"Based on the AWS power consumption data for t3.medium instance and considering a sustained CPU utilization of 40%, the estimated hourly power consumption is 0.06 kWh. This calculation considers the PUE of AWS data centers. The carbon footprint is estimated to be 0.025 kg CO2 per hour, based on the region's grid carbon intensity and AWS's sustainability initiatives.\"}}, \"gcp\": {\"instance\": {\"cloud_provider\": \"GCP\", \"name\": \"e2-medium\", \"cpu\": 1, \"ram\": 4.0, \"storage\": 10, \"gpu\": None, \"region\": \"us-central1\", \"cost_per_hour\": 0.0169861111111111, \"description\": \"This application requires a minimum of 2 vCPUs and 2GB of RAM to run. A simple Java application with Spring Boot and MySQL usually doesn't demand high CPU or memory resources. Therefore, an e2-medium instance, which provides a balance of performance and cost, is chosen. 10GB of storage is sufficient for this application and its data. The application does not require a GPU. The us-central1 region offers a good balance of cost and latency for many users.\"}, \"estimate\": {\"power_consumption\": \"0.05 kWh\", \"carbon_footprint\": \"0.01 kg CO2\", \"description\": \"Based on the GCP Carbon Footprint calculator and considering the e2-medium instance located in us-central1 region has a sustained CPU utilization of 40%, the estimated hourly power consumption is 0.05 kWh. This calculation considers the PUE of Google Cloud's data centers. The carbon footprint is estimated to be 0.01 kg CO2 per hour, based on the region's grid carbon intensity and Google's commitment to renewable energy.\"}}, \"azure\": {\"instance\": {\"cloud_provider\": \"Azure\", \"name\": \"Standard_B2s\", \"cpu\": 2, \"ram\": 4.0, \"storage\": 10, \"gpu\": \"None\", \"region\": \"eastus\", \"cost_per_hour\": 0.0456, \"description\": \"This application requires a minimum of 2 vCPUs and 2GB of RAM to run. A simple Java application with Spring Boot and MySQL usually doesn't demand high CPU or memory resources. Therefore, a Standard_B2s instance, which provides a balance of performance and cost, is chosen. 10GB of storage is sufficient for this application and its data. The application does not require a GPU. The eastus region offers a good balance of cost and latency for many users.\"}, \"estimate\": {\"power_consumption\": \"0.07 kWh\", \"carbon_footprint\": \"0.03 kg CO2\", \"description\": \"Based on the Azure Sustainability Calculator and considering the Standard_B2s instance located in the eastus region has a sustained CPU utilization of 40%, the estimated hourly power consumption is 0.07 kWh. This calculation considers the PUE of Azure's data centers. The carbon footprint is estimated to be 0.03 kg CO2 per hour, based on the region's grid carbon intensity and Microsoft's commitment to renewable energy.\"}}, \"conclusion\": {\"instance\": {\"cloud_provider\": \"GCP\", \"name\": \"e2-medium\", \"cpu\": 1, \"ram\": 4.0, \"storage\": 10, \"gpu\": \"None\", \"region\": \"us-central1\", \"cost_per_hour\": 0.0169861111111111, \"description\": \"This application requires a minimum of 2 vCPUs and 2GB of RAM to run. A simple Java application with Spring Boot and MySQL usually doesn't demand high CPU or memory resources. Therefore, an e2-medium instance, which provides a balance of performance and cost, is chosen. 10GB of storage is sufficient for this application and its data. The application does not require a GPU. The us-central1 region offers a good balance of cost and latency for many users.\"}, \"estimate\": {\"power_consumption\": \"0.05 kWh\", \"carbon_footprint\": \"0.01 kg CO2\", \"description\": \"Based on the GCP Carbon Footprint calculator and considering the e2-medium instance located in us-central1 region has a sustained CPU utilization of 40%, the estimated hourly power consumption is 0.05 kWh. This calculation considers the PUE of Google Cloud's data centers. The carbon footprint is estimated to be 0.01 kg CO2 per hour, based on the region's grid carbon intensity and Google's commitment to renewable energy.\"}}, \"language_ratio\": {\"Kotlin\": 1754, \"Properties\": 1056, \"YAML\": 810, \"Shell\": 3607, \"Batch\": 2830, \"JSON\": 2742}})"
   ]
  },
  {
   "cell_type": "code",
   "execution_count": 14,
   "metadata": {},
   "outputs": [],
   "source": [
    "from typing import Dict\n",
    "from google.cloud.firestore_v1.base_query import FieldFilter, Or, And\n",
    "import firebase_admin\n",
    "from firebase_admin import credentials\n",
    "from firebase_admin import firestore\n",
    "\n",
    "def get_latest_price(instance: Instance) -> Instance:\n",
    "    \"\"\"Based on gemini's suggestion, get the cheapest AWS instance with latest information\"\"\"\n",
    "    if not firebase_admin._apps:\n",
    "        cred = credentials.Certificate('firebase-svc-account-key.json')\n",
    "        app = firebase_admin.initialize_app(cred)\n",
    "    db = firestore.client()\n",
    "    ref = db.collection(\"cloud_cost\")\n",
    "    vendor_filter = FieldFilter(\"vendor\", \"==\", instance.cloud_provider)\n",
    "    name_filter = FieldFilter(\"name\", \"==\", instance.name)\n",
    "    cpu_filter = FieldFilter(\"cpu\", \"==\", instance.cpu)\n",
    "    ram_filter = FieldFilter(\"ram\", \"==\", instance.ram)\n",
    "    resource_filter = And(filters=[cpu_filter, ram_filter])\n",
    "    instance_filter = Or(filters=[name_filter, resource_filter])\n",
    "    final_filter = And(filters=[vendor_filter, instance_filter])\n",
    "    docs = ref.where(filter=final_filter).stream()\n",
    "\n",
    "    lowest_instance = {\"cost_per_hour\": float(\"inf\")}\n",
    "    for doc in docs:\n",
    "        if lowest_instance[\"cost_per_hour\"] > doc.to_dict()[\"cost_per_hour\"]:\n",
    "            lowest_instance = doc.to_dict()\n",
    "    instance = Instance(\n",
    "        cloud_provider=instance.cloud_provider,\n",
    "        name=lowest_instance[\"name\"], \n",
    "        cpu=lowest_instance[\"cpu\"], \n",
    "        ram=lowest_instance[\"ram\"], \n",
    "        storage=instance.storage,\n",
    "        gpu=lowest_instance[\"gpu\"],\n",
    "        region=lowest_instance[\"region\"],\n",
    "        cost=Cost(hourly=lowest_instance[\"cost_per_hour\"])\n",
    "    )\n",
    "    return instance"
   ]
  },
  {
   "cell_type": "code",
   "execution_count": 16,
   "metadata": {},
   "outputs": [],
   "source": [
    "gemini_result = Result(**{\n",
    "    'gcp': {\n",
    "        'instance': {\n",
    "            'cloud_provider': 'GCP',\n",
    "            'name': 'e2-micro',\n",
    "            'cpu': '2',\n",
    "            'ram': 0.6,\n",
    "            'storage': 30,\n",
    "            'gpu': 'None',\n",
    "            'region': 'us-central1',\n",
    "            'cost': {'monthly': '$13.04', 'hourly': '$0.006'}\n",
    "        },\n",
    "        'power_consumption': {'monthly': '9.78 kWh', 'hourly': '0.004 kWh'},\n",
    "        'carbon_footprint': {'monthly': '4.401 kg CO2', 'hourly': '0.002 kg CO2'},\n",
    "        'description': \"This Kotlin Spring Boot application, connecting to a MySQL database, can be run on a minimal GCP e2-micro instance. The e2-micro, with 2 vCPUs and 0.6 GB memory, suffices for development and light traffic. We estimate 30GB storage for the application and database. The estimated cost is based on GCP's pricing, and power consumption is a conservative estimate. The carbon footprint is derived using US-central1's carbon efficiency.\"\n",
    "    },\n",
    "    'aws': {\n",
    "        'instance': {\n",
    "            'cloud_provider': 'AWS',\n",
    "            'name': 't4g.nano',\n",
    "            'cpu': '2',\n",
    "            'ram': 0.5,\n",
    "            'storage': 20,\n",
    "            'gpu': 'None',\n",
    "            'region': 'us-east-1',\n",
    "            'cost': {'monthly': '$10.24', 'hourly': '$0.004'}\n",
    "        },\n",
    "        'power_consumption': {'monthly': '7.68 kWh', 'hourly': '0.003 kWh'},\n",
    "        'carbon_footprint': {'monthly': '3.456 kg CO2', 'hourly': '0.001 kg CO2'},\n",
    "        'description': \"For AWS, a t4g.nano instance (2 vCPU, 0.5 GB memory) is suitable. 20GB storage is allocated for application and database files. Cost calculation is based on AWS pricing, and power consumption is a conservative estimate for this instance type. The carbon footprint is calculated using us-east-1's carbon efficiency data.\"\n",
    "    },\n",
    "    'azure': {\n",
    "        'instance': {\n",
    "            'cloud_provider': 'Azure',\n",
    "            'name': 'B1s',\n",
    "            'cpu': '1',\n",
    "            'ram': 1,\n",
    "            'storage': 30,\n",
    "            'gpu': 'None',\n",
    "            'region': 'eastus',\n",
    "            'cost': {'monthly': '$13.34', 'hourly': '$0.005'}\n",
    "        },\n",
    "        'power_consumption': {'monthly': '9.99 kWh', 'hourly': '0.004 kWh'},\n",
    "        'carbon_footprint': {'monthly': '4.496 kg CO2', 'hourly': '0.002 kg CO2'},\n",
    "        'description': \"Azure's B1s instance (1 vCPU, 1 GB memory) is a good fit. 30GB storage is allocated for the application and database. Cost estimation is based on Azure's pricing, and power consumption is a conservative estimate. The carbon footprint is derived using Azure's carbon emission data for the eastus region.\"\n",
    "    },\n",
    "    'language_ratio': {\n",
    "        'Kotlin': 12215,\n",
    "        'Properties': 1246,\n",
    "        'YAML': 804,\n",
    "        'JSON': 1782\n",
    "    }\n",
    "})"
   ]
  },
  {
   "cell_type": "code",
   "execution_count": 18,
   "metadata": {},
   "outputs": [],
   "source": [
    "best_aws_instance = get_latest_price(gemini_result.aws.instance)\n",
    "best_gcp_instance = get_latest_price(gemini_result.gcp.instance)"
   ]
  },
  {
   "cell_type": "code",
   "execution_count": 21,
   "metadata": {},
   "outputs": [],
   "source": [
    "gemini_result.aws.instance = best_aws_instance\n",
    "gemini_result.gcp.instance = best_gcp_instance"
   ]
  },
  {
   "cell_type": "code",
   "execution_count": null,
   "metadata": {},
   "outputs": [],
   "source": [
    "from langchain.prompts import PromptTemplate\n",
    "from langchain_core.output_parsers import StrOutputParser\n",
    "# Output\n",
    "# Ensure the output is structured in a clear and detailed manner, adhering to the JSON format specified by the following guide: {format_instruction}\n",
    "prompt = PromptTemplate(\n",
    "    template=\"\"\"\n",
    "\"\"\",\n",
    "    input_variables=[\"\"],\n",
    "    partial_variables={\"format_instruction\": output_parser.get_format_instructions()}\n",
    "    )\n",
    "chain = prompt | llm | output_parser\n",
    "# chain = prompt | llm | StrOutputParser()"
   ]
  },
  {
   "cell_type": "code",
   "execution_count": 49,
   "metadata": {},
   "outputs": [],
   "source": [
    "import firebase_admin\n",
    "from google.cloud.firestore_v1.base_query import FieldFilter, Or, And\n",
    "from firebase_admin import credentials\n",
    "from firebase_admin import firestore\n",
    "\n",
    "def correct_instance_price(instance: Instance) -> Instance:\n",
    "    if not firebase_admin._apps:\n",
    "        cred = credentials.Certificate(\"firebase-svc-account-key.json\")\n",
    "        firebase_admin.initialize_app(cred)\n",
    "    db = firestore.client()\n",
    "    ref = db.collection(\"cloud_cost\")\n",
    "    vendor_filter = FieldFilter(\"vendor\", \"==\", instance.cloud_provider)\n",
    "    name_filter = FieldFilter(\"name\", \"==\", instance.name)\n",
    "    cpu_filter = FieldFilter(\"cpu\", \"==\", instance.cpu)\n",
    "    ram_filter = FieldFilter(\"ram\", \"==\", instance.ram)\n",
    "    region_filter = FieldFilter(\"region\", \"==\", instance.region)\n",
    "    final_filter = And(filters=[vendor_filter, name_filter, cpu_filter, ram_filter, region_filter])\n",
    "    docs = list(ref.where(filter=final_filter).stream())\n",
    "    return Instance(cloud_provider=instance.cloud_provider, storage=instance.storage, description=instance.description, **docs[0].to_dict())"
   ]
  },
  {
   "cell_type": "code",
   "execution_count": 50,
   "metadata": {},
   "outputs": [
    {
     "data": {
      "text/plain": [
       "Instance(cloud_provider='AWS', name='t3.medium', cpu=2, ram=4.0, storage=10, gpu=None, region='us-east-1', cost_per_hour=0.0441, description=\"This application requires a minimum of 2 vCPUs and 2GB of RAM to run. A simple Java application with Spring Boot and MySQL usually doesn't demand high CPU or memory resources. Therefore, a t3.medium instance, which provides a balance of performance and cost, is chosen. 10GB of storage is sufficient for this application and its data. The application does not require a GPU. The us-east-1 region offers a good balance of cost and latency for many users.\")"
      ]
     },
     "execution_count": 50,
     "metadata": {},
     "output_type": "execute_result"
    }
   ],
   "source": [
    "aws_instance = final_response.aws.instance\n",
    "aws_instance"
   ]
  },
  {
   "cell_type": "code",
   "execution_count": 56,
   "metadata": {},
   "outputs": [
    {
     "ename": "SyntaxError",
     "evalue": "invalid syntax. Perhaps you forgot a comma? (1435595798.py, line 3)",
     "output_type": "error",
     "traceback": [
      "\u001b[0;36m  Cell \u001b[0;32mIn[56], line 3\u001b[0;36m\u001b[0m\n\u001b[0;31m    gcp_instance = Instance(cloud_provider='GCP', name='e2-micro', cpu=2, ram=1.0, storage=30, gpu='None', region='us-central1,' cost_per_hour=0.0074, description=\"This React application is relatively lightweight and doesn't require significant computational resources. An e2-micro instance with 2 vCPUs and 1GB RAM should be sufficient for development and light traffic. 30GB storage is allocated for the application files and potential user data. The application doesn't utilize GPUs. us-central1 is chosen as a geographically central region.\")\u001b[0m\n\u001b[0m                                                                                                                  ^\u001b[0m\n\u001b[0;31mSyntaxError\u001b[0m\u001b[0;31m:\u001b[0m invalid syntax. Perhaps you forgot a comma?\n"
     ]
    }
   ],
   "source": [
    "gcp_instance = final_response.gcp.instance\n",
    "gcp_instance\n",
    "gcp_instance = Instance(cloud_provider='GCP', name='e2-micro', cpu=2, ram=1.0, storage=30, gpu='None', region='us-central1,' cost_per_hour=0.0074, description=\"This React application is relatively lightweight and doesn't require significant computational resources. An e2-micro instance with 2 vCPUs and 1GB RAM should be sufficient for development and light traffic. 30GB storage is allocated for the application files and potential user data. The application doesn't utilize GPUs. us-central1 is chosen as a geographically central region.\")"
   ]
  },
  {
   "cell_type": "code",
   "execution_count": 51,
   "metadata": {},
   "outputs": [
    {
     "data": {
      "text/plain": [
       "Instance(cloud_provider='AWS', name='t3.medium', cpu=2, ram=4.0, storage=10, gpu=None, region='us-east-1', cost_per_hour=0.0441, description=\"This application requires a minimum of 2 vCPUs and 2GB of RAM to run. A simple Java application with Spring Boot and MySQL usually doesn't demand high CPU or memory resources. Therefore, a t3.medium instance, which provides a balance of performance and cost, is chosen. 10GB of storage is sufficient for this application and its data. The application does not require a GPU. The us-east-1 region offers a good balance of cost and latency for many users.\")"
      ]
     },
     "execution_count": 51,
     "metadata": {},
     "output_type": "execute_result"
    }
   ],
   "source": [
    "correct_instance_price(aws_instance)"
   ]
  },
  {
   "cell_type": "code",
   "execution_count": 53,
   "metadata": {},
   "outputs": [
    {
     "data": {
      "text/plain": [
       "Instance(cloud_provider='GCP', name='e2-medium', cpu=1, ram=4.0, storage=10, gpu=None, region='us-central1', cost_per_hour=0.0169861111111111, description=\"This application requires a minimum of 2 vCPUs and 2GB of RAM to run. A simple Java application with Spring Boot and MySQL usually doesn't demand high CPU or memory resources. Therefore, an e2-medium instance, which provides a balance of performance and cost, is chosen. 10GB of storage is sufficient for this application and its data. The application does not require a GPU. The us-central1 region offers a good balance of cost and latency for many users.\")"
      ]
     },
     "execution_count": 53,
     "metadata": {},
     "output_type": "execute_result"
    }
   ],
   "source": [
    "correct_instance_price(gcp_instance)"
   ]
  },
  {
   "cell_type": "code",
   "execution_count": null,
   "metadata": {},
   "outputs": [],
   "source": []
  }
 ],
 "metadata": {
  "kernelspec": {
   "display_name": "llm",
   "language": "python",
   "name": "python3"
  },
  "language_info": {
   "codemirror_mode": {
    "name": "ipython",
    "version": 3
   },
   "file_extension": ".py",
   "mimetype": "text/x-python",
   "name": "python",
   "nbconvert_exporter": "python",
   "pygments_lexer": "ipython3",
   "version": "3.11.9"
  }
 },
 "nbformat": 4,
 "nbformat_minor": 2
}
